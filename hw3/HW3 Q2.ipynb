{
 "cells": [
  {
   "cell_type": "markdown",
   "metadata": {},
   "source": [
    "# Question 2"
   ]
  },
  {
   "cell_type": "code",
   "execution_count": 50,
   "metadata": {
    "collapsed": true
   },
   "outputs": [],
   "source": [
    "import pandas as pd\n",
    "import numpy as np\n",
    "# from mpl_toolkits import mplot3d\n",
    "import matplotlib.pyplot as plt\n",
    "from sklearn.ensemble import RandomForestClassifier\n",
    "from sklearn.tree import DecisionTreeClassifier\n",
    "from sklearn.model_selection import GridSearchCV\n",
    "from sklearn.neural_network import MLPClassifier"
   ]
  },
  {
   "cell_type": "code",
   "execution_count": 26,
   "metadata": {
    "collapsed": false
   },
   "outputs": [],
   "source": [
    "# import the data\n",
    "# set the path names to direct to the csv file\n",
    "x_train_file = \"Q2_data/x_train.csv\"\n",
    "x_test_file = \"Q2_data/x_test.csv\"\n",
    "y_train_file = \"Q2_data/y_train.csv\"\n",
    "y_test_file = \"Q2_data/y_test.csv\"\n",
    "\n",
    "x_train = pd.read_csv(x_train_file).drop([\"Unnamed: 0\"], axis=1).values\n",
    "x_test = pd.read_csv(x_test_file).drop([\"Unnamed: 0\"], axis=1).values\n",
    "y_train = pd.read_csv(y_train_file).drop([\"Unnamed: 0\"], axis=1)['x'].values\n",
    "y_test = pd.read_csv(y_test_file).drop([\"Unnamed: 0\"], axis=1)['x'].values"
   ]
  },
  {
   "cell_type": "markdown",
   "metadata": {},
   "source": [
    "## Tree-based model\n",
    "\n",
    "We will first run a decision tree classifier (arbitrarily chosen/runs the fastest) to use as a point of comparison for when we run a neural network."
   ]
  },
  {
   "cell_type": "code",
   "execution_count": 37,
   "metadata": {
    "collapsed": false
   },
   "outputs": [
    {
     "data": {
      "image/png": "[encoded data removed]",
      "text/plain": [
       "<matplotlib.figure.Figure at 0x10f4e4f28>"
      ]
     },
     "metadata": {},
     "output_type": "display_data"
    },
    {
     "name": "stdout",
     "output_type": "stream",
     "text": [
      "Best max depth: 9.000000\n",
      "Accuracy on the test data: 0.862572\n"
     ]
    }
   ],
   "source": [
    "# random forest parameters\n",
    "kFold = 5\n",
    "param_grid = {'max_depth': np.arange(3, 34, 3)}\n",
    "tree_grid = GridSearchCV(DecisionTreeClassifier(), param_grid, cv=kFold)\n",
    "\n",
    "# test using training data\n",
    "tree_grid.fit(x_train, y_train)\n",
    "best_d = tree_grid.best_params_['max_depth']\n",
    "\n",
    "# graph the results\n",
    "accuracy = tree_grid.cv_results_[\"mean_test_score\"]\n",
    "plt.plot(np.arange(3, 34, 3), accuracy)\n",
    "plt.xlabel(\"Tree Depth\")\n",
    "plt.ylabel(\"Accuracy\")\n",
    "plt.title(\"Depth vs. Accuracy\")\n",
    "plt.show()\n",
    "print(\"Best max depth: %f\" % best_d)\n",
    "\n",
    "# use the best parameter to predict on the testing data\n",
    "score = tree_grid.score(x_test, y_test)\n",
    "print(\"Accuracy on the test data: %f\" % score)"
   ]
  },
  {
   "cell_type": "markdown",
   "metadata": {},
   "source": [
    "## Neural Network\n",
    "\n",
    "Now we try to run a neural network and see how well it is able to classify the activities."
   ]
  },
  {
   "cell_type": "code",
   "execution_count": 40,
   "metadata": {
    "collapsed": false
   },
   "outputs": [],
   "source": [
    "# we want to see how the hidden layer and epoch size will affect performance\n",
    "# parameters of neural network\n",
    "kFold = 5\n",
    "param_grid = {'hidden_layer_sizes': [(100,), (200,), (300,), (400,), (500,)],\n",
    "                 'max_iter': np.arange(100, 600, 100)}\n",
    "mlp_grid = GridSearchCV(MLPClassifier(), param_grid, cv=kFold)\n",
    "\n",
    "# test using training data\n",
    "mlp_grid.fit(x_train, y_train)\n",
    "best_h = mlp_grid.best_params_['hidden_layer_sizes']\n",
    "best_i = mlp_grid.best_params_['max_iter']"
   ]
  },
  {
   "cell_type": "code",
   "execution_count": 51,
   "metadata": {
    "collapsed": false
   },
   "outputs": [
    {
     "name": "stdout",
     "output_type": "stream",
     "text": [
      "Optimal size of the hidden layer: 200.000000\n",
      "Optimal number of epochs: 400.000000\n",
      "Accuracy on the test data: 0.942654\n"
     ]
    }
   ],
   "source": [
    "# print the best params\n",
    "print(\"Optimal size of the hidden layer: %f\" % best_h)\n",
    "print(\"Optimal number of epochs: %f\" % best_i)\n",
    "\n",
    "# use the best parameter to predict on the testing data\n",
    "score = mlp_grid.score(x_test, y_test)\n",
    "print(\"Accuracy on the test data: %f\" % score)"
   ]
  },
  {
   "cell_type": "markdown",
   "metadata": {},
   "source": [
    "The accuracy of the neural network is better than the decision tree, 94.26% versus 86.26% from the decision tree."
   ]
  }
 ],
 "metadata": {
  "kernelspec": {
   "display_name": "Python 3",
   "language": "python",
   "name": "python3"
  },
  "language_info": {
   "codemirror_mode": {
    "name": "ipython",
    "version": 3
   },
   "file_extension": ".py",
   "mimetype": "text/x-python",
   "name": "python",
   "nbconvert_exporter": "python",
   "pygments_lexer": "ipython3",
   "version": "3.5.2"
  }
 },
 "nbformat": 4,
 "nbformat_minor": 2
}
