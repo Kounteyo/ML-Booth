{
 "cells": [
  {
   "cell_type": "markdown",
   "metadata": {},
   "source": [
    "# BUS 41204 Machine Learning Midterm\n",
    "### Winter 2018\n",
    "### Max Liu"
   ]
  },
  {
   "cell_type": "code",
   "execution_count": 172,
   "metadata": {
    "collapsed": true
   },
   "outputs": [],
   "source": [
    "import pandas as pd\n",
    "import numpy as np\n",
    "import matplotlib.pyplot as plt\n",
    "from sklearn.preprocessing import LabelEncoder\n",
    "from sklearn.model_selection import train_test_split\n",
    "from sklearn.metrics import confusion_matrix, accuracy_score, roc_curve\n",
    "from sklearn.tree import DecisionTreeClassifier\n",
    "from sklearn.ensemble import AdaBoostClassifier, BaggingClassifier, RandomForestClassifier\n",
    "from sklearn.svm import SVC\n",
    "from sklearn.linear_model import LogisticRegression, Perceptron\n",
    "import warnings\n",
    "import random\n",
    "warnings.filterwarnings(\"ignore\")"
   ]
  },
  {
   "cell_type": "markdown",
   "metadata": {},
   "source": [
    "## Question 1"
   ]
  },
  {
   "cell_type": "markdown",
   "metadata": {},
   "source": [
    "## 1.1\n",
    "\n",
    "We cannot use all of the variables to predict at the start of an auction whether it will be competitive. Specifically, we cannot use the \"ClosePrice\" variable because we would not know the close price of an auction item at the start of an auction. For obvious reasons we also cannot use the \"Competitive?\" variable because it is the value we are trying to compute. All of the other variables should be known at the start of an auction. One thing to note is the \"Buy It Now\" button on eBay, there is not enough data to know whether or not this button was used to purchase any of the auction items. Thus, we assume that at the beginning of each auction we would know the duration of the auction and the end day."
   ]
  },
  {
   "cell_type": "markdown",
   "metadata": {},
   "source": [
    "## 1.2"
   ]
  },
  {
   "cell_type": "code",
   "execution_count": 110,
   "metadata": {
    "collapsed": false
   },
   "outputs": [],
   "source": [
    "# we want to first load the data set and then parition it into 60% training and 40% validation\n",
    "csv_file = \"eBayAuctions.csv\"\n",
    "df = pd.read_csv(csv_file)\n",
    "\n",
    "# label encode so that we can work with the categorical data\n",
    "le = LabelEncoder()\n",
    "df['Category'] = le.fit_transform(df['Category'])\n",
    "df['currency'] = le.fit_transform(df['currency'])\n",
    "df['endDay'] = le.fit_transform(df['endDay'])\n",
    "\n",
    "y = df['Competitive?']\n",
    "x = df.drop(columns=['ClosePrice', 'Competitive?']) # we remove the variables that cannot be used\n",
    "# want the dataframes to be numpy arrays\n",
    "y = y.values\n",
    "x = x.values\n",
    "\n",
    "# split the data 60% training 40% validation\n",
    "# NOTE: we are not running cross-validation to determine the best model\n",
    "#       the models are being optimized against only the validation set that\n",
    "#       we are taking from the whole training set\n",
    "test_percent = 0.40\n",
    "seed = 11\n",
    "shuffle_data = True\n",
    "x_train, x_test, y_train, y_test = train_test_split(x, y, test_size=test_percent,\n",
    "                                                            random_state=seed,\n",
    "                                                            shuffle=shuffle_data)"
   ]
  },
  {
   "cell_type": "markdown",
   "metadata": {},
   "source": [
    "### Classification Tree"
   ]
  },
  {
   "cell_type": "code",
   "execution_count": 43,
   "metadata": {
    "collapsed": false
   },
   "outputs": [
    {
     "data": {
      "image/png": "[encoded data removed]",
      "text/plain": [
       "<matplotlib.figure.Figure at 0x10f2cc2e8>"
      ]
     },
     "metadata": {},
     "output_type": "display_data"
    },
    {
     "name": "stdout",
     "output_type": "stream",
     "text": [
      "Best Accuracy Score: 0.727503\n",
      "Best Max Leaf Nodes: 48.000000\n",
      "[[226 145]\n",
      " [ 91 327]]\n",
      "Confusion Matrix\n",
      "|   | 0  | 1  |\n",
      "---------------\n",
      "| 0 | 226 | 145 |\n",
      "| 1 | 91 | 327 |\n"
     ]
    }
   ],
   "source": [
    "# we want to optimize the max leaf nodes of our classification tree\n",
    "leaf_values = np.arange(2, 100, 2)\n",
    "scores = []\n",
    "best_score = 0\n",
    "best_leaf = 0\n",
    "for l in leaf_values:\n",
    "    clf = DecisionTreeClassifier(max_leaf_nodes=l)\n",
    "    clf.fit(x_train, y_train)\n",
    "    y_pred = clf.predict(x_test)\n",
    "    score = accuracy_score(y_test, y_pred)\n",
    "    scores.append(score)\n",
    "    if score > best_score:\n",
    "        best_score = score\n",
    "        best_leaf = l\n",
    "    \n",
    "scores = np.array(scores)\n",
    "\n",
    "# plot the results\n",
    "plt.plot(leaf_values, scores)\n",
    "plt.xlabel(\"Max Leaf Nodes\")\n",
    "plt.ylabel(\"Accuracy Score\")\n",
    "plt.title(\"Classification Tree\")\n",
    "plt.show()\n",
    "\n",
    "print(\"Best Accuracy Score: %f\" % best_score)\n",
    "print(\"Best Max Leaf Nodes: %f\" % best_leaf)\n",
    "\n",
    "# now we want to display the confusion matrix\n",
    "cm = confusion_matrix(y_test, y_pred)\n",
    "print(cm)\n",
    "print(\"Confusion Matrix\")\n",
    "print(\"|   | 0  | 1  |\")\n",
    "print(\"---------------\")\n",
    "print(\"| 0 | %i | %i |\" % (cm[0][0], cm[0][1]))\n",
    "print(\"| 1 | %i | %i |\" % (cm[1][0], cm[1][1]))"
   ]
  },
  {
   "cell_type": "markdown",
   "metadata": {},
   "source": [
    "### Boosted Tree (AdaBoost)"
   ]
  },
  {
   "cell_type": "code",
   "execution_count": 44,
   "metadata": {
    "collapsed": false
   },
   "outputs": [
    {
     "data": {
      "image/png": "[encoded data removed]",
      "text/plain": [
       "<matplotlib.figure.Figure at 0x113226e10>"
      ]
     },
     "metadata": {},
     "output_type": "display_data"
    },
    {
     "name": "stdout",
     "output_type": "stream",
     "text": [
      "Best Accuracy Score: 0.743980\n",
      "Best n Estimators:   76.000000\n",
      "[[260 111]\n",
      " [ 97 321]]\n",
      "Confusion Matrix\n",
      "|   | 0  | 1  |\n",
      "---------------\n",
      "| 0 | 260 | 111 |\n",
      "| 1 | 97 | 321 |\n"
     ]
    }
   ],
   "source": [
    "# we want to optimize the n estimators of our AdaBoost classifier\n",
    "n_values = np.arange(40, 100, 2) # a variety of ranges were tested but the optimal was in this region\n",
    "scores = []\n",
    "best_score = 0\n",
    "best_n = 0\n",
    "for n in n_values:\n",
    "    clf = AdaBoostClassifier(n_estimators=n)\n",
    "    clf.fit(x_train, y_train)\n",
    "    y_pred = clf.predict(x_test)\n",
    "    score = accuracy_score(y_test, y_pred)\n",
    "    scores.append(score)\n",
    "    if score > best_score:\n",
    "        best_score = score\n",
    "        best_n = n\n",
    "    \n",
    "scores = np.array(scores)\n",
    "\n",
    "# plot the results\n",
    "plt.plot(n_values, scores)\n",
    "plt.xlabel(\"n Estimators\")\n",
    "plt.ylabel(\"Accuracy Score\")\n",
    "plt.title(\"AdaBoost Classifier\")\n",
    "plt.show()\n",
    "\n",
    "print(\"Best Accuracy Score: %f\" % best_score)\n",
    "print(\"Best n Estimators:   %f\" % best_n)\n",
    "\n",
    "# now we want to display the confusion matrix\n",
    "cm = confusion_matrix(y_test, y_pred)\n",
    "print(cm)\n",
    "print(\"Confusion Matrix\")\n",
    "print(\"|   | 0  | 1  |\")\n",
    "print(\"---------------\")\n",
    "print(\"| 0 | %i | %i |\" % (cm[0][0], cm[0][1]))\n",
    "print(\"| 1 | %i | %i |\" % (cm[1][0], cm[1][1]))"
   ]
  },
  {
   "cell_type": "markdown",
   "metadata": {},
   "source": [
    "### Bagging Classifier"
   ]
  },
  {
   "cell_type": "code",
   "execution_count": 53,
   "metadata": {
    "collapsed": false
   },
   "outputs": [
    {
     "data": {
      "image/png": "[encoded data removed]",
      "text/plain": [
       "<matplotlib.figure.Figure at 0x112f3e128>"
      ]
     },
     "metadata": {},
     "output_type": "display_data"
    },
    {
     "name": "stdout",
     "output_type": "stream",
     "text": [
      "Best Accuracy Score: 0.719899\n",
      "Best n Estimators:   80.000000\n",
      "[[245 126]\n",
      " [ 99 319]]\n",
      "Confusion Matrix\n",
      "|   | 0  | 1  |\n",
      "---------------\n",
      "| 0 | 245 | 126 |\n",
      "| 1 | 99 | 319 |\n"
     ]
    }
   ],
   "source": [
    "# we want to optimize the n estimators of our Bagging classifier\n",
    "n_values = np.arange(40, 120, 5) # a variety of ranges were tested but the optimal was in this region\n",
    "scores = []\n",
    "best_score = 0\n",
    "best_n = 0\n",
    "for n in n_values:\n",
    "    clf = BaggingClassifier(n_estimators=n)\n",
    "    clf.fit(x_train, y_train)\n",
    "    y_pred = clf.predict(x_test)\n",
    "    score = accuracy_score(y_test, y_pred)\n",
    "    scores.append(score)\n",
    "    if score > best_score:\n",
    "        best_score = score\n",
    "        best_n = n\n",
    "    \n",
    "scores = np.array(scores)\n",
    "\n",
    "# plot the results\n",
    "plt.plot(n_values, scores)\n",
    "plt.xlabel(\"n Estimators\")\n",
    "plt.ylabel(\"Accuracy Score\")\n",
    "plt.title(\"Bagged Classifier\")\n",
    "plt.show()\n",
    "\n",
    "print(\"Best Accuracy Score: %f\" % best_score)\n",
    "print(\"Best n Estimators:   %f\" % best_n)\n",
    "\n",
    "# now we want to display the confusion matrix\n",
    "cm = confusion_matrix(y_test, y_pred)\n",
    "print(cm)\n",
    "print(\"Confusion Matrix\")\n",
    "print(\"|   | 0  | 1  |\")\n",
    "print(\"---------------\")\n",
    "print(\"| 0 | %i | %i |\" % (cm[0][0], cm[0][1]))\n",
    "print(\"| 1 | %i | %i |\" % (cm[1][0], cm[1][1]))"
   ]
  },
  {
   "cell_type": "markdown",
   "metadata": {},
   "source": [
    "### Random Forest Classifier"
   ]
  },
  {
   "cell_type": "code",
   "execution_count": 57,
   "metadata": {
    "collapsed": false
   },
   "outputs": [
    {
     "data": {
      "image/png": "[encoded data removed]",
      "text/plain": [
       "<matplotlib.figure.Figure at 0x1132528d0>"
      ]
     },
     "metadata": {},
     "output_type": "display_data"
    },
    {
     "name": "stdout",
     "output_type": "stream",
     "text": [
      "Best Accuracy Score: 0.722433\n",
      "Best n Estimators:   40.000000\n",
      "[[248 123]\n",
      " [ 96 322]]\n",
      "Confusion Matrix\n",
      "|   | 0  | 1  |\n",
      "---------------\n",
      "| 0 | 248 | 123 |\n",
      "| 1 | 96 | 322 |\n"
     ]
    }
   ],
   "source": [
    "# we want to optimize the n estimators of our Random Forest classifier\n",
    "n_values = np.arange(40, 220, 10) # a variety of ranges were tested but the optimal was in this region\n",
    "scores = []\n",
    "best_score = 0\n",
    "best_n = 0\n",
    "for n in n_values:\n",
    "    clf = RandomForestClassifier(n_estimators=n)\n",
    "    clf.fit(x_train, y_train)\n",
    "    y_pred = clf.predict(x_test)\n",
    "    score = accuracy_score(y_test, y_pred)\n",
    "    scores.append(score)\n",
    "    if score > best_score:\n",
    "        best_score = score\n",
    "        best_n = n\n",
    "    \n",
    "scores = np.array(scores)\n",
    "\n",
    "# plot the results\n",
    "plt.plot(n_values, scores)\n",
    "plt.xlabel(\"Trees in Forest\")\n",
    "plt.ylabel(\"Accuracy Score\")\n",
    "plt.title(\"Random Forest Classifier\")\n",
    "plt.show()\n",
    "\n",
    "print(\"Best Accuracy Score: %f\" % best_score)\n",
    "print(\"Best n Estimators:   %f\" % best_n)\n",
    "\n",
    "# now we want to display the confusion matrix\n",
    "cm = confusion_matrix(y_test, y_pred)\n",
    "print(cm)\n",
    "print(\"Confusion Matrix\")\n",
    "print(\"|   | 0  | 1  |\")\n",
    "print(\"---------------\")\n",
    "print(\"| 0 | %i | %i |\" % (cm[0][0], cm[0][1]))\n",
    "print(\"| 1 | %i | %i |\" % (cm[1][0], cm[1][1]))"
   ]
  },
  {
   "cell_type": "markdown",
   "metadata": {},
   "source": [
    "Note: There are quite a few other parameters that could have been optimized but for the sake of runability I chose the features that had the greatest impact on the performance of the model. Including other paramters would have caused these models to run in $n^2$ time."
   ]
  },
  {
   "cell_type": "markdown",
   "metadata": {},
   "source": [
    "## 1.3"
   ]
  },
  {
   "cell_type": "code",
   "execution_count": 139,
   "metadata": {
    "collapsed": false
   },
   "outputs": [
    {
     "data": {
      "image/png": "[encoded data removed]",
      "text/plain": [
       "<matplotlib.figure.Figure at 0x10f397358>"
      ]
     },
     "metadata": {},
     "output_type": "display_data"
    }
   ],
   "source": [
    "# create lift curve for the four models here\n",
    "# classification tree, max leaf nodes 48\n",
    "# boost, best n 76\n",
    "# bagged, best n 80\n",
    "# random forest classifier, best n 40\n",
    "\n",
    "pp1 = DecisionTreeClassifier(max_leaf_nodes=48).fit(x_train, y_train).predict_proba(x_test)\n",
    "pp2 = AdaBoostClassifier(n_estimators=76).fit(x_train, y_train).predict_proba(x_test)\n",
    "pp3 = BaggingClassifier(n_estimators=80).fit(x_train, y_train).predict_proba(x_test)\n",
    "pp4 = RandomForestClassifier(n_estimators=40).fit(x_train, y_train).predict_proba(x_test)\n",
    "\n",
    "f1, t1, _ = roc_curve(y_test.ravel(), [i[0] for i in pp1])\n",
    "f2, t2, _ = roc_curve(y_test.ravel(), [i[0] for i in pp2])\n",
    "f3, t3, _ = roc_curve(y_test.ravel(), [i[0] for i in pp3])\n",
    "f4, t4, _ = roc_curve(y_test.ravel(), [i[0] for i in pp4])\n",
    "\n",
    "lift1 = t1/f1\n",
    "lift2 = t2/f2\n",
    "lift3 = t3/f3\n",
    "lift4 = t4/f4\n",
    "\n",
    "plt.plot(f1, lift1, color='red', label='Tree')\n",
    "plt.plot(f2, lift2, color='blue', label='AdaBoost')\n",
    "plt.plot(f3, lift3, color='green', label='Bagging')\n",
    "plt.plot(f4, lift4, color='yellow', label='Forest')\n",
    "plt.plot([0, 1], [1, 1], color='orange', linestyle='--')\n",
    "plt.plot([0.1, 0.1], [0, 4], color='orange', linestyle='--')\n",
    "plt.title(\"Lift Curve\")\n",
    "plt.legend()\n",
    "plt.show()"
   ]
  },
  {
   "cell_type": "markdown",
   "metadata": {},
   "source": [
    "From the vertical orange line we can see the lift for the top 10% of observations in the validation set"
   ]
  },
  {
   "cell_type": "markdown",
   "metadata": {},
   "source": [
    "## 1.4\n",
    "\n",
    "The concept behind all of the different classification trees are pretty similar. A tree with varying depth and leaf nodes is built out based on the training data and at each split the tree decides which direction to go. When we use the simple classification tree it is just building out one of these trees and using it as the model for classifying. This can be improved upon by using a Bagged tree, the difference being that a Bagged tree will use bootstrap with replacement to generate a variety of different training sets. Multiple trees are then built and we aggregate the predictions of all of the trees. Random Forest is a variation of of this where multiple trees are created but the correlation between each tree is reduced by taking different features as inputs. The best features are able to carry more weight in thi implementation. Boosting is separate from the other models because each of the trees is not built out independently but rather is built out sequentially and features with more importance will appear mroe frequently in the trees than other features."
   ]
  },
  {
   "cell_type": "markdown",
   "metadata": {},
   "source": [
    "# Question 2"
   ]
  },
  {
   "cell_type": "markdown",
   "metadata": {},
   "source": [
    "## 2.1\n",
    "\n",
    "The confusion matrix will look something like this:\n",
    "\n",
    "|                 | respond        | did not respond |\n",
    "|-----------------|----------------|-----------------|\n",
    "| respond         | true positive  | false positive  |\n",
    "| did not respond | false negative | true negative   |\n",
    "\n",
    "Where the first column labels are the true values and the rows show what the classifier predicted the class was."
   ]
  },
  {
   "cell_type": "markdown",
   "metadata": {},
   "source": [
    "## 2.2\n",
    "\n",
    "The confusion matrix for a model will be filled out by fitting our model with some training data set and the predicting the classes for a known test set. We can then compare how many of the respondants were classified as respondants by the model and how many respondants were classified as someone who would not respond. This would fill out the first line in our confusion matrix above. We could then do the same thing for those who did not respond to fill out the second row of our confusion matrix."
   ]
  },
  {
   "cell_type": "markdown",
   "metadata": {},
   "source": [
    "## 2.3\n",
    "\n",
    "Based on the given information, we know that it costs \\$0.50 to send a special offer to one of our existing customers (a budget of \\$10,000 will allow us to send the offer to 20,000 existing customers). We also know that each customer that responds will give us \\$1,000 in revenue (200 people responded the first time and created \\$200,000 in revenue). In summary we know: $$\\text{Benefit of responding:  \\$999.50}$$ $$\\text{Cost of not responding: \\$0.50}$$"
   ]
  },
  {
   "cell_type": "markdown",
   "metadata": {},
   "source": [
    "## 2.4\n",
    "\n",
    "We can evaluate the performance of a model by taking the confusion matrix that we made above and normalizing all of the values. This will essentially give us a table of probabilities for our classification model. Next we take the cost and benefit numbers from above and we can create a table of the costs and benefits for each of the scenarios in our model (for example, the cost of a false negative would be \\$0.50 and the benefit of a true positive would be \\$999.50). Using these two tables we can then take the sum of the different probabilities to calculate the expected value of any given model. Using the expected value given by a model, we can compare this to the  expected values given by other models to choose the best one.\n",
    "\n",
    "For the purposes of this problem, we would probably want to use a logistic regression or a support vector machine to help classify the customers as either likely to respond or not likely to respond. We can then use the above method to evaluate their performance against one another."
   ]
  },
  {
   "cell_type": "markdown",
   "metadata": {},
   "source": [
    "# Question 3"
   ]
  },
  {
   "cell_type": "code",
   "execution_count": 159,
   "metadata": {
    "collapsed": false
   },
   "outputs": [],
   "source": [
    "# begin by loading the data\n",
    "csv_file = \"Politics.csv\"\n",
    "df = pd.read_csv(csv_file)\n",
    "\n",
    "# need to encode MOVED_AD\n",
    "le = LabelEncoder()\n",
    "df[\"MOVED_AD\"] = le.fit_transform(df[\"MOVED_AD\"]) # Y-1, N-0\n",
    "#remove VOTER_ID\n",
    "df = df.drop(columns=['VOTER_ID'])\n",
    "\n",
    "# split the test and validation partitions\n",
    "train = df.loc[df['Partition'] == 'T']\n",
    "validation = df.loc[df['Partition'] == 'V']\n",
    "# now we can drop the parition column also\n",
    "train = train.drop(columns=['Partition'])\n",
    "validation = validation.drop(columns=['Partition'])\n",
    "\n",
    "# split into x and y\n",
    "train_y = train['MOVED_AD']\n",
    "train_x = train.drop(columns=['MOVED_AD'])\n",
    "validation_y = validation['MOVED_AD']\n",
    "validation_x = validation.drop(columns=['MOVED_AD'])"
   ]
  },
  {
   "cell_type": "markdown",
   "metadata": {},
   "source": [
    "## 3.1"
   ]
  },
  {
   "cell_type": "code",
   "execution_count": 68,
   "metadata": {
    "collapsed": false
   },
   "outputs": [
    {
     "name": "stdout",
     "output_type": "stream",
     "text": [
      "Total Messaged: 5000, Total Moved: 2012\n",
      "This is 40.240000%\n",
      "Total Not Messaged: 5000, Total Moved: 1722\n",
      "This is 34.440000%\n"
     ]
    }
   ],
   "source": [
    "# we iterate through and see how many people moved after getting the message\n",
    "# and how many moved after not getting a message\n",
    "messaged = 0\n",
    "messaged_moved = 0\n",
    "not_messaged = 0\n",
    "not_messaged_moved = 0\n",
    "\n",
    "for index, row in df.iterrows():\n",
    "    if row['MESSAGE_A'] == 1:\n",
    "        messaged += 1\n",
    "        if row['MOVED_AD'] == 1:\n",
    "            messaged_moved += 1\n",
    "    else:\n",
    "        not_messaged += 1\n",
    "        if row['MOVED_AD'] == 1:\n",
    "            not_messaged_moved += 1\n",
    "            \n",
    "print(\"Total Messaged: %i, Total Moved: %i\" % (messaged, messaged_moved))\n",
    "print(\"This is %f%%\" % ((messaged_moved/messaged)*100))\n",
    "print(\"Total Not Messaged: %i, Total Moved: %i\" % (not_messaged, not_messaged_moved))\n",
    "print(\"This is %f%%\" % ((not_messaged_moved/not_messaged)*100))"
   ]
  },
  {
   "cell_type": "markdown",
   "metadata": {},
   "source": [
    "It looks like the message had some effect in moving the voters in a Democratic direction. However, relative to how many people moved after not receving a message, it looks like the effect was not extremely great. It is possible that a 6% increase has a much greater effect in the election as a whole but in the context of the current data set it would be interesting to see if the additional 6% is due to the message or some other factor and or chance."
   ]
  },
  {
   "cell_type": "markdown",
   "metadata": {},
   "source": [
    "## 3.2\n",
    "\n",
    "### Proposed Approach\n",
    "\n",
    "#### Selecting Input Variables\n",
    "\n",
    "We will determine the features that we want by running a random forest and figuring out which variables are the best signals for classifying voters.\n",
    "\n",
    "#### Selected Models\n",
    "\n",
    "Because of the classification problem we are faced with (the classification is binary, does the voter move in a Democratic direction or do they not) we can use specialized models that are very good at solving this kind of problem. In order, we will use a support vector machine, logistic regression, and a perceptron classifier."
   ]
  },
  {
   "cell_type": "code",
   "execution_count": 142,
   "metadata": {
    "collapsed": false
   },
   "outputs": [
    {
     "name": "stdout",
     "output_type": "stream",
     "text": [
      "['AGE', 'REG_DAYS', 'PARTY_R', 'PARTY_D', 'HH_ND', 'E_PELIG', 'HH_NR', 'G_PELIG', 'NL5G', 'HH_NI', 'PARTY_I', 'MEDIANEDUC', 'GENDER_F', 'GENDER_M', 'NH_AA', 'ED_4COL', 'MESSAGE_A', 'NH_WHITE', 'M_MAR', 'VG_12', 'COMM_CAR', 'MED_HH_INC', 'F_MAR', 'COMM_609P', 'COMM_LT10', 'COMM_PT', 'KIDS', 'MED_AGE', 'COMM_CP', 'HISP', 'VG_08', 'VG_10', 'AP_PELIG']\n"
     ]
    }
   ],
   "source": [
    "# we want to first select the input variables\n",
    "clf = RandomForestClassifier(n_estimators=n)\n",
    "clf.fit(train_x, train_y)\n",
    "\n",
    "importance = clf.feature_importances_\n",
    "headers = train_x.columns\n",
    "\n",
    "d = []\n",
    "for i in range(len(headers)):\n",
    "    d.append((importance[i], headers[i]))\n",
    "\n",
    "d.sort(key=lambda tup: tup[0], reverse=True)\n",
    "# you can uncomment this if you want to see the full ranking of feature importance\n",
    "# print(d)\n",
    "\n",
    "# I want to use all of the features with an importance over 1%\n",
    "# using all of the others may be not very helpful and increase the model runtime\n",
    "features_to_use = []\n",
    "features_to_remove = []\n",
    "for t in d:\n",
    "    if t[0] < 0.01:\n",
    "        features_to_remove.append(t[1])\n",
    "    else:\n",
    "        features_to_use.append(t[1])\n",
    "        \n",
    "print(features_to_use)"
   ]
  },
  {
   "cell_type": "markdown",
   "metadata": {},
   "source": [
    "The features presented above are the features that we will feed into our model to train it to classify voters"
   ]
  },
  {
   "cell_type": "code",
   "execution_count": 160,
   "metadata": {
    "collapsed": true
   },
   "outputs": [],
   "source": [
    "# remove the values that we dont want\n",
    "# train_y, train_x, validation_x, validation_y\n",
    "train_x = train_x.drop(columns=features_to_remove)\n",
    "validation_x = validation_x.drop(columns=features_to_remove)\n",
    "\n",
    "# convert to numpy arrays\n",
    "train_x = train_x.values\n",
    "train_y = train_y.values\n",
    "validation_x = validation_x.values\n",
    "validation_y = validation_y.values"
   ]
  },
  {
   "cell_type": "markdown",
   "metadata": {},
   "source": [
    "### Support Vector Classifier"
   ]
  },
  {
   "cell_type": "code",
   "execution_count": 144,
   "metadata": {
    "collapsed": false
   },
   "outputs": [
    {
     "data": {
      "image/png": "[encoded data removed]",
      "text/plain": [
       "<matplotlib.figure.Figure at 0x112dc6c50>"
      ]
     },
     "metadata": {},
     "output_type": "display_data"
    },
    {
     "name": "stdout",
     "output_type": "stream",
     "text": [
      "Best Accuracy Score: 0.634995\n",
      "Best C:   1.000000\n",
      "[[2484   87]\n",
      " [1411   70]]\n",
      "Confusion Matrix\n",
      "|   | 0  | 1  |\n",
      "---------------\n",
      "| 0 | 2484 | 87 |\n",
      "| 1 | 1411 | 70 |\n"
     ]
    }
   ],
   "source": [
    "c_values = np.arange(1, 5, 1)\n",
    "scores = []\n",
    "best_score = 0\n",
    "best_c = 0\n",
    "for c in c_values:\n",
    "    clf = SVC(C=c)\n",
    "    clf.fit(train_x, train_y)\n",
    "    y_pred = clf.predict(validation_x)\n",
    "    score = accuracy_score(validation_y, y_pred)\n",
    "    scores.append(score)\n",
    "    if score > best_score:\n",
    "        best_score = score\n",
    "        best_c = c\n",
    "    \n",
    "scores = np.array(scores)\n",
    "\n",
    "# plot the results\n",
    "plt.plot(c_values, scores)\n",
    "plt.xlabel(\"C\")\n",
    "plt.ylabel(\"Accuracy Score\")\n",
    "plt.title(\"Support Vector Classifier\")\n",
    "plt.show()\n",
    "\n",
    "print(\"Best Accuracy Score: %f\" % best_score)\n",
    "print(\"Best C:   %f\" % best_c)\n",
    "\n",
    "# now we want to display the confusion matrix\n",
    "cm = confusion_matrix(validation_y, y_pred)\n",
    "print(cm)\n",
    "print(\"Confusion Matrix\")\n",
    "print(\"|   | 0  | 1  |\")\n",
    "print(\"---------------\")\n",
    "print(\"| 0 | %i | %i |\" % (cm[0][0], cm[0][1]))\n",
    "print(\"| 1 | %i | %i |\" % (cm[1][0], cm[1][1]))"
   ]
  },
  {
   "cell_type": "markdown",
   "metadata": {},
   "source": [
    "### Logistic Regression"
   ]
  },
  {
   "cell_type": "code",
   "execution_count": 140,
   "metadata": {
    "collapsed": false
   },
   "outputs": [
    {
     "data": {
      "image/png": "[encoded data removed]",
      "text/plain": [
       "<matplotlib.figure.Figure at 0x1043784a8>"
      ]
     },
     "metadata": {},
     "output_type": "display_data"
    },
    {
     "name": "stdout",
     "output_type": "stream",
     "text": [
      "Best Accuracy Score: 0.725568\n",
      "Best C:   9.000000\n",
      "[[2096  475]\n",
      " [ 640  841]]\n",
      "Confusion Matrix\n",
      "|   | 0  | 1  |\n",
      "---------------\n",
      "| 0 | 2096 | 475 |\n",
      "| 1 | 640 | 841 |\n"
     ]
    }
   ],
   "source": [
    "c_values = np.arange(1, 20, 1) # a variety of ranges were tested but the optimal was in this region\n",
    "scores = []\n",
    "best_score = 0\n",
    "best_c = 0\n",
    "for c in c_values:\n",
    "    clf = LogisticRegression(C=c)\n",
    "    clf.fit(train_x, train_y)\n",
    "    y_pred = clf.predict(validation_x)\n",
    "    score = accuracy_score(validation_y, y_pred)\n",
    "    scores.append(score)\n",
    "    if score > best_score:\n",
    "        best_score = score\n",
    "        best_c = c\n",
    "    \n",
    "scores = np.array(scores)\n",
    "\n",
    "# plot the results\n",
    "plt.plot(c_values, scores)\n",
    "plt.xlabel(\"C\")\n",
    "plt.ylabel(\"Accuracy Score\")\n",
    "plt.title(\"Logistic Regression\")\n",
    "plt.show()\n",
    "\n",
    "print(\"Best Accuracy Score: %f\" % best_score)\n",
    "print(\"Best C:   %f\" % best_c)\n",
    "\n",
    "# now we want to display the confusion matrix\n",
    "cm = confusion_matrix(validation_y, y_pred)\n",
    "print(cm)\n",
    "print(\"Confusion Matrix\")\n",
    "print(\"|   | 0  | 1  |\")\n",
    "print(\"---------------\")\n",
    "print(\"| 0 | %i | %i |\" % (cm[0][0], cm[0][1]))\n",
    "print(\"| 1 | %i | %i |\" % (cm[1][0], cm[1][1]))"
   ]
  },
  {
   "cell_type": "markdown",
   "metadata": {},
   "source": [
    "### Perceptron"
   ]
  },
  {
   "cell_type": "code",
   "execution_count": 108,
   "metadata": {
    "collapsed": false
   },
   "outputs": [
    {
     "data": {
      "image/png": "[encoded data removed]",
      "text/plain": [
       "<matplotlib.figure.Figure at 0x1132c9710>"
      ]
     },
     "metadata": {},
     "output_type": "display_data"
    },
    {
     "name": "stdout",
     "output_type": "stream",
     "text": [
      "Best Accuracy Score: 0.713722\n",
      "Best Max Iteration:   40.000000\n",
      "[[2156  415]\n",
      " [ 745  736]]\n",
      "Confusion Matrix\n",
      "|   | 0  | 1  |\n",
      "---------------\n",
      "| 0 | 2156 | 415 |\n",
      "| 1 | 745 | 736 |\n"
     ]
    }
   ],
   "source": [
    "iter_values = np.arange(10, 100, 10)\n",
    "scores = []\n",
    "best_score = 0\n",
    "best_i = 0\n",
    "for i in iter_values:\n",
    "    clf = LogisticRegression(max_iter=i)\n",
    "    clf.fit(train_x, train_y)\n",
    "    y_pred = clf.predict(validation_x)\n",
    "    score = accuracy_score(validation_y, y_pred)\n",
    "    scores.append(score)\n",
    "    if score > best_score:\n",
    "        best_score = score\n",
    "        best_i = i\n",
    "    \n",
    "scores = np.array(scores)\n",
    "\n",
    "# plot the results\n",
    "plt.plot(iter_values, scores)\n",
    "plt.xlabel(\"Max Iterations\")\n",
    "plt.ylabel(\"Accuracy Score\")\n",
    "plt.title(\"Logistic Regression\")\n",
    "plt.show()\n",
    "\n",
    "print(\"Best Accuracy Score: %f\" % best_score)\n",
    "print(\"Best Max Iteration:   %f\" % best_i)\n",
    "\n",
    "# now we want to display the confusion matrix\n",
    "cm = confusion_matrix(validation_y, y_pred)\n",
    "print(cm)\n",
    "print(\"Confusion Matrix\")\n",
    "print(\"|   | 0  | 1  |\")\n",
    "print(\"---------------\")\n",
    "print(\"| 0 | %i | %i |\" % (cm[0][0], cm[0][1]))\n",
    "print(\"| 1 | %i | %i |\" % (cm[1][0], cm[1][1]))"
   ]
  },
  {
   "cell_type": "markdown",
   "metadata": {},
   "source": [
    "### Chosen Model\n",
    "\n",
    "The model with the best results using the current data set is the logistic regression. We choose this model because it has the highest accuracy score and relatively better results from the confusion matrix than the other 2 models. This makes sense as a linear logistic regression is built exactly to solve the type of problem that we are looking at right now and performing a binary classification."
   ]
  },
  {
   "cell_type": "markdown",
   "metadata": {},
   "source": [
    "## 3.3"
   ]
  },
  {
   "cell_type": "code",
   "execution_count": 149,
   "metadata": {
    "collapsed": false
   },
   "outputs": [
    {
     "name": "stdout",
     "output_type": "stream",
     "text": [
      "Record 1: 0.456225\n",
      "Record 2: 0.248753\n",
      "Record 3: 0.376904\n"
     ]
    }
   ],
   "source": [
    "# propensities for first 3 records in validation set\n",
    "# using logistic regression with a C of 9\n",
    "clf = LogisticRegression(C=9)\n",
    "clf.fit(train_x, train_y)\n",
    "\n",
    "#first 3 rows of validation_x\n",
    "top_3 = validation_x[0:3]\n",
    "\n",
    "# predict probabilities\n",
    "pp = clf.predict_proba(top_3)\n",
    "\n",
    "print(\"Record 1: %f\" % pp[0][1])\n",
    "print(\"Record 2: %f\" % pp[1][1])\n",
    "print(\"Record 3: %f\" % pp[2][1])"
   ]
  },
  {
   "cell_type": "markdown",
   "metadata": {},
   "source": [
    "## 3.4"
   ]
  },
  {
   "cell_type": "code",
   "execution_count": 162,
   "metadata": {
    "collapsed": false
   },
   "outputs": [
    {
     "name": "stdout",
     "output_type": "stream",
     "text": [
      "Uplift for Record 1: 0.018464\n",
      "Uplift for Record 2: 0.013697\n",
      "Uplift for Record 3: 0.017376\n"
     ]
    }
   ],
   "source": [
    "# the last column in the array is the MESSAGE_A feature\n",
    "# lets take our validation_x column and change all of the MESSAGE_A to 1\n",
    "# and then run it through our model\n",
    "# and then we will do the same by changing all of the MESSAGE_A to 0\n",
    "# and then we can subtract to find uplift\n",
    "\n",
    "validation_x_1 = validation_x\n",
    "validation_x_0 = validation_x\n",
    "\n",
    "for record in validation_x_1:\n",
    "    record[-1] = 1\n",
    "    \n",
    "pp1 = clf.predict_proba(validation_x_1)\n",
    "prob_moved_1 = []\n",
    "for p in pp1:\n",
    "    prob_moved_1.append(p[1])\n",
    "    \n",
    "for record in validation_x_0:\n",
    "    record[-1] = 0\n",
    "    \n",
    "pp2 = clf.predict_proba(validation_x_0)\n",
    "prob_moved_0 = []\n",
    "for p in pp2:\n",
    "    prob_moved_0.append(p[1])\n",
    "\n",
    "# here we have the uplift of the all of the records\n",
    "uplift = np.array(prob_moved_1) - np.array(prob_moved_0)\n",
    "\n",
    "# the uplift for the first 3 records in validation\n",
    "print(\"Uplift for Record 1: %f\" % uplift[0])\n",
    "print(\"Uplift for Record 2: %f\" % uplift[1])\n",
    "print(\"Uplift for Record 3: %f\" % uplift[2])"
   ]
  },
  {
   "cell_type": "code",
   "execution_count": 168,
   "metadata": {
    "collapsed": false
   },
   "outputs": [
    {
     "name": "stdout",
     "output_type": "stream",
     "text": [
      "The uplift cutoff for the top 10% is an uplift of 0.018579\n"
     ]
    }
   ],
   "source": [
    "# now lets look at what the uplift looks like for the top 10%\n",
    "total_records = len(uplift)\n",
    "top_10 = int(total_records*0.10)\n",
    "uplift_s = sorted(uplift, reverse=True)\n",
    "\n",
    "print(\"The uplift cutoff for the top 10%% is an uplift of %f\" % uplift_s[top_10 - 1])"
   ]
  },
  {
   "cell_type": "code",
   "execution_count": 180,
   "metadata": {
    "collapsed": false
   },
   "outputs": [
    {
     "name": "stdout",
     "output_type": "stream",
     "text": [
      "Percent of the top 10% uplift that moved: 0.525926\n",
      "Percent of random selection that moved: 0.338272\n"
     ]
    }
   ],
   "source": [
    "# now lets find all of the records with an uplift greater than 0.018579\n",
    "rows = []\n",
    "for i in range(len(uplift)):\n",
    "    if uplift[i] >= 0.018579:\n",
    "        rows.append(i)\n",
    "        \n",
    "# now we can calculate the percent of people that moved that also had a high uplift\n",
    "total = 0\n",
    "moved = 0\n",
    "for i in rows:\n",
    "    total += 1\n",
    "    if validation_y[i] == 1:\n",
    "        moved +=1  \n",
    "print(\"Percent of the top 10%% uplift that moved: %f\" % (moved/total))\n",
    "\n",
    "# now lets pick random variables and see what percent of people moved\n",
    "rand = random.sample(range(total_records), 405)\n",
    "total = 0\n",
    "moved = 0\n",
    "for i in rand:\n",
    "    total += 1\n",
    "    if validation_y[i] == 1:\n",
    "        moved +=1    \n",
    "print(\"Percent of random selection that moved: %f\" % (moved/total))"
   ]
  },
  {
   "cell_type": "markdown",
   "metadata": {},
   "source": [
    "I ran the above code multiple times and the random selection percentage that moved was consistently around 34%. However, when we look at the top 10% of voters with the highest uplift, we find that 52% of them actually moved. So by targeting voters with a high uplift, we are actually doing better than random targeting by 18% which is pretty significant."
   ]
  }
 ],
 "metadata": {
  "kernelspec": {
   "display_name": "Python 3",
   "language": "python",
   "name": "python3"
  },
  "language_info": {
   "codemirror_mode": {
    "name": "ipython",
    "version": 3
   },
   "file_extension": ".py",
   "mimetype": "text/x-python",
   "name": "python",
   "nbconvert_exporter": "python",
   "pygments_lexer": "ipython3",
   "version": "3.5.2"
  }
 },
 "nbformat": 4,
 "nbformat_minor": 2
}
