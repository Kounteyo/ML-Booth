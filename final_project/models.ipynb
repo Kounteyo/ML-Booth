{
 "cells": [
  {
   "cell_type": "code",
   "execution_count": 22,
   "metadata": {
    "collapsed": true
   },
   "outputs": [],
   "source": [
    "# load neccessary packages\n",
    "import pandas as pd\n",
    "import numpy as np\n",
    "from sklearn.preprocessing import LabelEncoder\n",
    "from sklearn.model_selection import train_test_split, GridSearchCV\n",
    "from sklearn.metrics import confusion_matrix, accuracy_score\n",
    "from sklearn.tree import DecisionTreeClassifier\n",
    "from sklearn.ensemble import AdaBoostClassifier, BaggingClassifier, RandomForestClassifier, GradientBoostingClassifier"
   ]
  },
  {
   "cell_type": "code",
   "execution_count": 18,
   "metadata": {
    "collapsed": false
   },
   "outputs": [],
   "source": [
    "# load the data\n",
    "CLEAN_DATAFILE = \"BDP_CLEAN.csv\"\n",
    "df = pd.read_csv(CLEAN_DATAFILE)\n",
    "\n",
    "# lets drop the columns we dont want to predict on\n",
    "# these columns are only for identification\n",
    "drop_columns = ['Ticker', 'Rating Date', 'Fiscal Year']\n",
    "y_variable = \"RTG_SP_LT_LC_ISSUER_CREDIT\"\n",
    "df = df.drop(columns=drop_columns)\n",
    "x = df.drop(columns=[y_variable])\n",
    "y = df[y_variable]\n",
    "\n",
    "# within the x variables there are 2 columns that are categorical data\n",
    "# lets one hot encode the categorical data\n",
    "x = pd.get_dummies(x)\n",
    "\n",
    "x_train, x_test, y_train, y_test = train_test_split(x, y, test_size=0.2, random_state=20)"
   ]
  },
  {
   "cell_type": "markdown",
   "metadata": {},
   "source": [
    "This project is a classification problem where we want to predict the column \"RTG_SP_LT_LC_ISSUER_CREDIT\".\n",
    "\n",
    "One interesting application for this problem is to use a model to predict the credit rating of the issuer and then compare this to the assigned credit rating given by a credit rating agency. This would allow us to expose possible opportunities where the assigned credit rating is low but our model assigns a high credit rating. The bonds issued would be seen as high risk high reward but in reality we know that the risk is less than expected."
   ]
  },
  {
   "cell_type": "markdown",
   "metadata": {},
   "source": [
    "# Tree based models\n",
    "\n",
    "### NOTE: If the optimal parameters have been printed for any of the models, DO NOT RUN AGAIN. It takes a long ass time for each one to run. Just add another cell below and create a new model object with the optimal parameters plugged in."
   ]
  },
  {
   "cell_type": "markdown",
   "metadata": {},
   "source": [
    "## Random Forest"
   ]
  },
  {
   "cell_type": "code",
   "execution_count": null,
   "metadata": {
    "collapsed": false
   },
   "outputs": [],
   "source": [
    "# find the best parameters first\n",
    "# random forest parameters\n",
    "kFold = 5\n",
    "param_grid = {'n_estimators': np.arange(200, 900, 100),\n",
    "                'max_features': np.array(['auto', 'sqrt', 'log2']),\n",
    "                'max_depth': np.arange(2, 30, 3)}\n",
    "forest_grid = GridSearchCV(RandomForestClassifier(), param_grid, cv=kFold)\n",
    "\n",
    "# test using training data\n",
    "forest_grid.fit(x_train, y_train)\n",
    "best_n = forest_grid.best_params_['n_estimators']\n",
    "best_f = forest_grid.best_params_['max_features']\n",
    "best_d = forest_grid.best_params_['max_depth']\n",
    "\n",
    "print(\"Best n estimators:   %f\" % best_n)\n",
    "print(\"Best max features:   %s\" % best_f)\n",
    "print(\"Best max depth:      %f\" % best_d)"
   ]
  },
  {
   "cell_type": "code",
   "execution_count": null,
   "metadata": {
    "collapsed": true
   },
   "outputs": [],
   "source": [
    "# use the best parameters to test accuracy on test set\n",
    "# look through GridSearchCV results and make some graphs\n",
    "# TODO: make graphs using the results, make confusion matrix\n",
    "# TODO: check the accuracy of the model on the test set"
   ]
  },
  {
   "cell_type": "code",
   "execution_count": null,
   "metadata": {
    "collapsed": true
   },
   "outputs": [],
   "source": [
    "# fit a random forest classifier using the best parameters\n",
    "# I want to graph and view what the top predictors are\n",
    "# TODO: graph the top predictors"
   ]
  },
  {
   "cell_type": "markdown",
   "metadata": {},
   "source": [
    "## Adaboost"
   ]
  },
  {
   "cell_type": "code",
   "execution_count": null,
   "metadata": {
    "collapsed": true
   },
   "outputs": [],
   "source": [
    "# find the best parameters first\n",
    "kFold = 5\n",
    "param_grid = {'n_estimators': np.arange(200, 900, 100),\n",
    "                'learning_rate': np.arange(0.25, 1.25, 0.25)}\n",
    "adaboost_grid = GridSearchCV(AdaBoostClassifier(), param_grid, cv=kFold)\n",
    "\n",
    "# test using training data\n",
    "adaboost_grid.fit(x_train, y_train)\n",
    "best_n = adaboost_grid.best_params_['n_estimators']\n",
    "best_l = adaboost_grid.best_params_['learning_rate']\n",
    "\n",
    "print(\"Best n estimators:    %f\" % best_n)\n",
    "print(\"Best learning rate:   %f\" % best_l)"
   ]
  },
  {
   "cell_type": "code",
   "execution_count": null,
   "metadata": {
    "collapsed": true
   },
   "outputs": [],
   "source": [
    "# TODO: make graphs using the results, make confusion matrix\n",
    "# TODO: check the accuracy of the model on the test set"
   ]
  },
  {
   "cell_type": "markdown",
   "metadata": {},
   "source": [
    "## Gradientboosting"
   ]
  },
  {
   "cell_type": "code",
   "execution_count": null,
   "metadata": {
    "collapsed": true
   },
   "outputs": [],
   "source": [
    "# find the best parameters first\n",
    "kFold = 5\n",
    "param_grid = {'n_estimators': np.arange(200, 900, 100),\n",
    "                'learning_rate': np.arange(0.25, 1.25, 0.25),\n",
    "                'max_depth': np.arange(5, 35, 5)}\n",
    "gradient_grid = GridSearchCV(GradientBoostingClassifier(), param_grid, cv=kFold)\n",
    "\n",
    "# test using training data\n",
    "gradient_grid.fit(x_train, y_train)\n",
    "best_n = gradient_grid.best_params_['n_estimators']\n",
    "best_l = gradient_grid.best_params_['learning_rate']\n",
    "best_d = gradient_grid.best_params_['max_depth']\n",
    "\n",
    "print(\"Best n estimators:    %f\" % best_n)\n",
    "print(\"Best learning rate:   %f\" % best_l)\n",
    "print(\"Best max depth:       %f\" % best_d)"
   ]
  },
  {
   "cell_type": "code",
   "execution_count": null,
   "metadata": {
    "collapsed": true
   },
   "outputs": [],
   "source": [
    "# TODO: make graphs using the results, make confusion matrix\n",
    "# TODO: check the accuracy of the model on the test set"
   ]
  }
 ],
 "metadata": {
  "kernelspec": {
   "display_name": "Python 3",
   "language": "python",
   "name": "python3"
  },
  "language_info": {
   "codemirror_mode": {
    "name": "ipython",
    "version": 3
   },
   "file_extension": ".py",
   "mimetype": "text/x-python",
   "name": "python",
   "nbconvert_exporter": "python",
   "pygments_lexer": "ipython3",
   "version": "3.5.2"
  }
 },
 "nbformat": 4,
 "nbformat_minor": 2
}
