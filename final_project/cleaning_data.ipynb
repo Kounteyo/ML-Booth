{
 "cells": [
  {
   "cell_type": "code",
   "execution_count": 7,
   "metadata": {
    "collapsed": true
   },
   "outputs": [],
   "source": [
    "import pandas as pd\n",
    "import re"
   ]
  },
  {
   "cell_type": "code",
   "execution_count": 8,
   "metadata": {
    "collapsed": false
   },
   "outputs": [],
   "source": [
    "df = pd.read_csv(\"BDP.csv\")\n",
    "\n",
    "# drop the column that has only NA values\n",
    "df = df.drop(['ADJ_SG&A_TO_SALES'], axis=1)\n",
    "\n",
    "# now we want to remove the rows that have a lot\n",
    "# of NA values\n",
    "# NOTE: I am also going to clean the ratings column here\n",
    "# as I iterate through the data (remove the asterisks)\n",
    "remove = []\n",
    "threshold = 0.5\n",
    "for index, row in df.iterrows():\n",
    "    # print(index)\n",
    "    cur_row = row.isnull()\n",
    "    if cur_row['RTG_SP_LT_LC_ISSUER_CREDIT']:\n",
    "        # print(row['Ticker'])\n",
    "        remove.append(index)\n",
    "    else:\n",
    "        total_count = 0\n",
    "        na_count = 0\n",
    "        for bools in cur_row.items():\n",
    "            total_count += 1\n",
    "            if bools[1]:\n",
    "                na_count += 1\n",
    "        if na_count/total_count > threshold:\n",
    "            # print(row['Ticker'])\n",
    "            remove.append(index)\n",
    "        else:\n",
    "            # if it reaches here then it means the row is good\n",
    "            # we will now remove asterisks if they appear in the rating\n",
    "            cleaned_rating = re.findall(r'[^\\s]*', row['RTG_SP_LT_LC_ISSUER_CREDIT'])[0]\n",
    "            df.at[index, 'RTG_SP_LT_LC_ISSUER_CREDIT'] = cleaned_rating\n",
    "            \n",
    "# print(remove)\n",
    "# print(len(remove))\n",
    "df = df.drop(df.index[remove])\n",
    "# print(abc.shape)"
   ]
  },
  {
   "cell_type": "code",
   "execution_count": null,
   "metadata": {
    "collapsed": false
   },
   "outputs": [],
   "source": []
  },
  {
   "cell_type": "code",
   "execution_count": null,
   "metadata": {
    "collapsed": true
   },
   "outputs": [],
   "source": []
  }
 ],
 "metadata": {
  "kernelspec": {
   "display_name": "Python 3",
   "language": "python",
   "name": "python3"
  },
  "language_info": {
   "codemirror_mode": {
    "name": "ipython",
    "version": 3
   },
   "file_extension": ".py",
   "mimetype": "text/x-python",
   "name": "python",
   "nbconvert_exporter": "python",
   "pygments_lexer": "ipython3",
   "version": "3.5.2"
  }
 },
 "nbformat": 4,
 "nbformat_minor": 2
}
