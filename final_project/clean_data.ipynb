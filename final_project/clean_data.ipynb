{
 "cells": [
  {
   "cell_type": "code",
   "execution_count": 2,
   "metadata": {
    "collapsed": true
   },
   "outputs": [],
   "source": [
    "import pandas as pd\n",
    "import numpy as np\n",
    "import re"
   ]
  },
  {
   "cell_type": "code",
   "execution_count": 3,
   "metadata": {
    "collapsed": false
   },
   "outputs": [],
   "source": [
    "DATAFILE = \"BDP.csv\"\n",
    "df = pd.read_csv(DATAFILE)\n",
    "\n",
    "# drop the column that has only NA values\n",
    "df = df.drop(['ADJ_SG&A_TO_SALES'], axis=1)\n",
    "\n",
    "# now we want to remove the rows that have a lot\n",
    "# of NA values\n",
    "# NOTE: I am also going to clean the ratings column here\n",
    "# as I iterate through the data (remove the asterisks)\n",
    "remove = []\n",
    "threshold = 0.5\n",
    "for index, row in df.iterrows():\n",
    "    # print(index)\n",
    "    \n",
    "    # there are some cells that say \"#N/A Field Not Applicable\"\n",
    "    # change these to just be regular NA values\n",
    "    for key, value in row.items():\n",
    "        if value == \"#N/A Field Not Applicable\":\n",
    "            df.at[index, key] = np.nan\n",
    "    \n",
    "    cur_row = row.isnull()\n",
    "    if cur_row['RTG_SP_LT_LC_ISSUER_CREDIT']:\n",
    "        # print(row['Ticker'])\n",
    "        remove.append(index)\n",
    "    else:\n",
    "        total_count = 0\n",
    "        na_count = 0\n",
    "        for bools in cur_row.items():\n",
    "            total_count += 1\n",
    "            if bools[1]:\n",
    "                na_count += 1\n",
    "        if na_count/total_count > threshold:\n",
    "            # print(row['Ticker'])\n",
    "            remove.append(index)\n",
    "        else:\n",
    "            # if it reaches here then it means the row is good\n",
    "            # we will now remove asterisks if they appear in the rating\n",
    "            cleaned_rating = re.findall(r'[^\\s]*', row['RTG_SP_LT_LC_ISSUER_CREDIT'])[0]\n",
    "            if cleaned_rating == \"BBBpi\":\n",
    "                cleaned_rating = \"BBB\"\n",
    "            df.at[index, 'RTG_SP_LT_LC_ISSUER_CREDIT'] = cleaned_rating\n",
    "            \n",
    "# print(remove)\n",
    "# print(len(remove))\n",
    "df = df.drop(df.index[remove])\n",
    "# print(abc.shape)"
   ]
  },
  {
   "cell_type": "code",
   "execution_count": 4,
   "metadata": {
    "collapsed": false
   },
   "outputs": [],
   "source": [
    "# I want to take care of the NA and blank values here\n",
    "# if the feature is categorical I will replace blanks with \"MISSING\"\n",
    "# if the feature is continuous I will replace with the mean of the column\n",
    "\n",
    "# first need to convert the data type of the continuous variables into floats\n",
    "all_columns = set(df.columns)\n",
    "categorical = set(['Ticker', 'Rating Date', 'Fiscal Year', 'RTG_SP_LT_LC_ISSUER_CREDIT', 'COUNTRY', \n",
    "                    'GICS_INDUSTRY_NAME'])\n",
    "\n",
    "continuous = list(all_columns - categorical)\n",
    "\n",
    "df[continuous] = df[continuous].apply(pd.to_numeric)\n",
    "# the continuous variables are now float variables\n",
    "\n",
    "# lets fix the categorical variables first\n",
    "for column in list(categorical):\n",
    "    df[column] = df[column].fillna('MISSING')\n",
    "    \n",
    "for column in continuous:\n",
    "    df[column] = df[column].fillna((df[column].mean()))"
   ]
  },
  {
   "cell_type": "code",
   "execution_count": 5,
   "metadata": {
    "collapsed": false
   },
   "outputs": [],
   "source": [
    "# return clean csv so we can just load the clean dataset\n",
    "df.to_csv(DATAFILE.split('.')[0] + '_CLEAN.csv', index=False)"
   ]
  },
  {
   "cell_type": "code",
   "execution_count": null,
   "metadata": {
    "collapsed": true
   },
   "outputs": [],
   "source": []
  }
 ],
 "metadata": {
  "kernelspec": {
   "display_name": "Python 3",
   "language": "python",
   "name": "python3"
  },
  "language_info": {
   "codemirror_mode": {
    "name": "ipython",
    "version": 3
   },
   "file_extension": ".py",
   "mimetype": "text/x-python",
   "name": "python",
   "nbconvert_exporter": "python",
   "pygments_lexer": "ipython3",
   "version": "3.5.2"
  }
 },
 "nbformat": 4,
 "nbformat_minor": 2
}
