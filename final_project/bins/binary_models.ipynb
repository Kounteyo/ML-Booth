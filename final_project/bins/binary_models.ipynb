{
 "cells": [
  {
   "cell_type": "code",
   "execution_count": 11,
   "metadata": {
    "collapsed": true
   },
   "outputs": [],
   "source": [
    "# Import modules\n",
    "import warnings\n",
    "warnings.filterwarnings('ignore')\n",
    "import numpy as np\n",
    "import pandas as pd\n",
    "import matplotlib.pyplot as plt\n",
    "from collections import OrderedDict\n",
    "from sklearn.neural_network import MLPClassifier\n",
    "from sklearn.preprocessing import LabelEncoder\n",
    "from sklearn.model_selection import train_test_split, GridSearchCV\n",
    "from sklearn.metrics import confusion_matrix, accuracy_score, classification_report\n",
    "from sklearn.tree import DecisionTreeClassifier\n",
    "from sklearn.ensemble import AdaBoostClassifier, BaggingClassifier, RandomForestClassifier, GradientBoostingClassifier"
   ]
  },
  {
   "cell_type": "code",
   "execution_count": 12,
   "metadata": {
    "collapsed": true
   },
   "outputs": [],
   "source": [
    "import itertools\n",
    "import numpy as np\n",
    "import matplotlib.pyplot as plt\n",
    "from sklearn.metrics import confusion_matrix\n",
    "\n",
    "def plot_confusion_matrix(cm, classes, title='Confusion matrix', cmap=plt.cm.Blues):\n",
    "    \n",
    "    plt.imshow(cm, interpolation='nearest', cmap=cmap)\n",
    "    plt.title(title)\n",
    "    #plt.colorbar()\n",
    "    tick_marks = np.arange(len(classes))\n",
    "    plt.xticks(tick_marks, classes, rotation=45)\n",
    "    plt.yticks(tick_marks, classes)\n",
    "\n",
    "    fmt = 'd'\n",
    "    thresh = cm.max() / 2.\n",
    "    for i, j in itertools.product(range(cm.shape[0]), range(cm.shape[1])):\n",
    "        plt.text(j, i, format(cm[i, j], fmt),\n",
    "                 horizontalalignment=\"center\",\n",
    "                 color=\"white\" if cm[i, j] > thresh else \"black\")\n",
    "\n",
    "    plt.tight_layout()\n",
    "    plt.ylabel('True label')\n",
    "    plt.xlabel('Predicted label')\n",
    "\n",
    "class_names = ['1', '0']"
   ]
  },
  {
   "cell_type": "code",
   "execution_count": 13,
   "metadata": {
    "collapsed": true
   },
   "outputs": [],
   "source": [
    "def clean_investment_grade(clean_csv_file):\n",
    "    '''\n",
    "    takes in the clean data set and transforms ratings into either investment grade or not investment grade\n",
    "    '''\n",
    "    df = pd.read_csv(clean_csv_file)\n",
    "    \n",
    "    d = {'AAA': 1, 'AA+': 2, 'AA': 3, 'AA-': 4, 'A+': 5, 'A': 6, 'A-': 7, 'BBB+': 8, 'BBB': 9,\n",
    "            'BBB-': 10, 'BB+': 11, 'BB': 12, 'BB-': 13, 'B+': 14, 'B': 15, 'B-': 16, 'CCC+': 17,\n",
    "            'CCC': 18, 'CCC-': 19, 'CC': 20, 'C': 21, 'SD': 22, 'D': 23}\n",
    "\n",
    "    df = df.replace({'RTG_SP_LT_LC_ISSUER_CREDIT': d})\n",
    "    \n",
    "    # anything that is rated 10 or lower is investment grade, everything else is not\n",
    "    for index, row in df.iterrows():\n",
    "        if row['RTG_SP_LT_LC_ISSUER_CREDIT'] <= 10:\n",
    "            df.at[index, 'RTG_SP_LT_LC_ISSUER_CREDIT'] = 1 # means investment grade\n",
    "        else:\n",
    "            df.at[index, 'RTG_SP_LT_LC_ISSUER_CREDIT'] = 0 # is not investment grade\n",
    "            \n",
    "    # everything should be good now\n",
    "    df.to_csv('BDP_CLEAN_investment_grade.csv', index=False)"
   ]
  },
  {
   "cell_type": "code",
   "execution_count": 14,
   "metadata": {
    "collapsed": true
   },
   "outputs": [],
   "source": [
    "clean_investment_grade('BDP_CLEAN.csv')"
   ]
  },
  {
   "cell_type": "code",
   "execution_count": 33,
   "metadata": {
    "collapsed": true
   },
   "outputs": [],
   "source": [
    "# Import the data\n",
    "CLEAN_DATAFILE = 'BDP_CLEAN_investment_grade.csv'\n",
    "df = pd.read_csv(CLEAN_DATAFILE)\n",
    "\n",
    "# Drop the identification columns\n",
    "drop_columns = ['Ticker', 'Rating Date', 'Fiscal Year']\n",
    "y_variable = 'RTG_SP_LT_LC_ISSUER_CREDIT'\n",
    "df = df.drop(drop_columns, axis=1)\n",
    "x = df.drop([y_variable], axis=1)\n",
    "y = df[y_variable]\n",
    "\n",
    "# There are 2 categorical predictor variables\n",
    "# One hot encode the categorical data\n",
    "x = pd.get_dummies(x)\n",
    "\n",
    "# Split into train and test sets\n",
    "x_train, x_test, y_train, y_test = train_test_split(x, y, test_size=0.2, random_state=20)"
   ]
  },
  {
   "cell_type": "markdown",
   "metadata": {},
   "source": [
    "# Dummy Classifier"
   ]
  },
  {
   "cell_type": "code",
   "execution_count": 16,
   "metadata": {},
   "outputs": [
    {
     "data": {
      "text/plain": [
       "DummyClassifier(constant=None, random_state=None, strategy='stratified')"
      ]
     },
     "execution_count": 16,
     "metadata": {},
     "output_type": "execute_result"
    }
   ],
   "source": [
    "from sklearn.dummy import DummyClassifier\n",
    "dummy = DummyClassifier()\n",
    "dummy.fit(x_train, y_train)"
   ]
  },
  {
   "cell_type": "code",
   "execution_count": 17,
   "metadata": {
    "scrolled": false
   },
   "outputs": [
    {
     "name": "stdout",
     "output_type": "stream",
     "text": [
      "             precision    recall  f1-score   support\n",
      "\n",
      "          0       0.38      0.36      0.37       979\n",
      "          1       0.66      0.68      0.67      1772\n",
      "\n",
      "avg / total       0.56      0.57      0.56      2751\n",
      "\n"
     ]
    }
   ],
   "source": [
    "# Make predictions\n",
    "y_pred = dummy.predict(x_test)\n",
    "report = classification_report(y_test, y_pred)\n",
    "print(report)"
   ]
  },
  {
   "cell_type": "code",
   "execution_count": 18,
   "metadata": {
    "scrolled": false
   },
   "outputs": [
    {
     "data": {
      "image/png": "[encoded data removed]",
      "text/plain": [
       "<matplotlib.figure.Figure at 0x103bcf128>"
      ]
     },
     "metadata": {},
     "output_type": "display_data"
    }
   ],
   "source": [
    "# Compute confusion matrix\n",
    "cnf_matrix = confusion_matrix(y_test, y_pred)\n",
    "plt.rcParams.update({'font.size':10})\n",
    "plt.figure(figsize=(8, 8))\n",
    "plot_confusion_matrix(cnf_matrix, classes=class_names, title='Confusion Matrix')\n",
    "plt.show()"
   ]
  },
  {
   "cell_type": "markdown",
   "metadata": {},
   "source": [
    "# Tree Classifiers"
   ]
  },
  {
   "cell_type": "markdown",
   "metadata": {},
   "source": [
    "## Random Forest"
   ]
  },
  {
   "cell_type": "code",
   "execution_count": 19,
   "metadata": {},
   "outputs": [
    {
     "name": "stdout",
     "output_type": "stream",
     "text": [
      "Best n estimators: 400\n",
      "Best max features: sqrt\n",
      "Best max depth: 34\n"
     ]
    }
   ],
   "source": [
    "# Random Forest GridSearch\n",
    "param_grid = {'n_estimators': np.arange(400, 1002, 200),\n",
    "                'max_features': np.array(['sqrt', 'log2']),\n",
    "                'max_depth': np.arange(10, 42, 4)}\n",
    "forest_grid = GridSearchCV(RandomForestClassifier(), param_grid, cv=5)\n",
    "\n",
    "forest_grid.fit(x_train, y_train)\n",
    "best_n = forest_grid.best_params_['n_estimators']\n",
    "best_f = forest_grid.best_params_['max_features']\n",
    "best_d = forest_grid.best_params_['max_depth']\n",
    "\n",
    "print('Best n estimators: {}'.format(best_n))\n",
    "print('Best max features: {}'.format(best_f))\n",
    "print('Best max depth: {}'.format(best_d))"
   ]
  },
  {
   "cell_type": "code",
   "execution_count": 20,
   "metadata": {
    "collapsed": true,
    "scrolled": true
   },
   "outputs": [],
   "source": [
    "# Store a dataframe with the results\n",
    "rf_results = forest_grid.cv_results_\n",
    "df = pd.DataFrame(rf_results)\n",
    "df.to_csv('rf_results.csv', index=False)"
   ]
  },
  {
   "cell_type": "code",
   "execution_count": 34,
   "metadata": {
    "scrolled": true
   },
   "outputs": [
    {
     "data": {
      "text/plain": [
       "RandomForestClassifier(bootstrap=True, class_weight=None, criterion='gini',\n",
       "            max_depth=34, max_features='sqrt', max_leaf_nodes=None,\n",
       "            min_impurity_decrease=0.0, min_impurity_split=None,\n",
       "            min_samples_leaf=1, min_samples_split=2,\n",
       "            min_weight_fraction_leaf=0.0, n_estimators=400, n_jobs=1,\n",
       "            oob_score=False, random_state=None, verbose=0,\n",
       "            warm_start=False)"
      ]
     },
     "execution_count": 34,
     "metadata": {},
     "output_type": "execute_result"
    }
   ],
   "source": [
    "# Fit the classifier with best params\n",
    "rf = RandomForestClassifier(n_estimators=400, max_features='sqrt', max_depth=34)\n",
    "rf.fit(x_train, y_train)"
   ]
  },
  {
   "cell_type": "code",
   "execution_count": 35,
   "metadata": {},
   "outputs": [
    {
     "name": "stdout",
     "output_type": "stream",
     "text": [
      "             precision    recall  f1-score   support\n",
      "\n",
      "          0       0.88      0.75      0.81       979\n",
      "          1       0.87      0.94      0.91      1772\n",
      "\n",
      "avg / total       0.87      0.87      0.87      2751\n",
      "\n"
     ]
    }
   ],
   "source": [
    "# Make predictions\n",
    "y_pred = rf.predict(x_test)\n",
    "report = classification_report(y_test, y_pred)\n",
    "print(report)"
   ]
  },
  {
   "cell_type": "code",
   "execution_count": 36,
   "metadata": {},
   "outputs": [
    {
     "data": {
      "image/png": "[encoded data removed]",
      "text/plain": [
       "<matplotlib.figure.Figure at 0x1a0d815c88>"
      ]
     },
     "metadata": {},
     "output_type": "display_data"
    }
   ],
   "source": [
    "# Compute confusion matrix\n",
    "cnf_matrix = confusion_matrix(y_test, y_pred)\n",
    "plt.rcParams.update({'font.size':10})\n",
    "plt.figure(figsize=(8, 8))\n",
    "plot_confusion_matrix(cnf_matrix, classes=class_names, title='Confusion Matrix')\n",
    "plt.show()"
   ]
  },
  {
   "cell_type": "markdown",
   "metadata": {},
   "source": [
    "## Adaboost"
   ]
  },
  {
   "cell_type": "code",
   "execution_count": 24,
   "metadata": {},
   "outputs": [
    {
     "name": "stdout",
     "output_type": "stream",
     "text": [
      "Best n estimators: 1000\n",
      "Best learning rate: 0.2\n"
     ]
    }
   ],
   "source": [
    "# Adaboost Gridsearch\n",
    "param_grid = {'n_estimators': np.arange(200, 1002, 100),\n",
    "                'learning_rate': np.arange(0.1, 1.1, 0.1)}\n",
    "adaboost_grid = GridSearchCV(AdaBoostClassifier(), param_grid, cv=5)\n",
    "\n",
    "adaboost_grid.fit(x_train, y_train)\n",
    "best_n = adaboost_grid.best_params_['n_estimators']\n",
    "best_l = adaboost_grid.best_params_['learning_rate']\n",
    "\n",
    "print('Best n estimators: {}'.format(best_n))\n",
    "print('Best learning rate: {}'.format(best_l))"
   ]
  },
  {
   "cell_type": "code",
   "execution_count": 37,
   "metadata": {},
   "outputs": [
    {
     "data": {
      "text/plain": [
       "AdaBoostClassifier(algorithm='SAMME.R', base_estimator=None,\n",
       "          learning_rate=0.2, n_estimators=1000, random_state=None)"
      ]
     },
     "execution_count": 37,
     "metadata": {},
     "output_type": "execute_result"
    }
   ],
   "source": [
    "# Fit the classifier with best params\n",
    "ada_boost = AdaBoostClassifier(n_estimators=1000, learning_rate=0.2)\n",
    "ada_boost.fit(x_train, y_train)"
   ]
  },
  {
   "cell_type": "code",
   "execution_count": 38,
   "metadata": {},
   "outputs": [
    {
     "name": "stdout",
     "output_type": "stream",
     "text": [
      "             precision    recall  f1-score   support\n",
      "\n",
      "          0       0.81      0.69      0.75       979\n",
      "          1       0.84      0.91      0.88      1772\n",
      "\n",
      "avg / total       0.83      0.83      0.83      2751\n",
      "\n"
     ]
    }
   ],
   "source": [
    "# Make predictions\n",
    "y_pred = ada_boost.predict(x_test)\n",
    "report = classification_report(y_test, y_pred)\n",
    "print(report)"
   ]
  },
  {
   "cell_type": "code",
   "execution_count": 39,
   "metadata": {},
   "outputs": [
    {
     "data": {
      "image/png": "[encoded data removed]",
      "text/plain": [
       "<matplotlib.figure.Figure at 0x1a0b443908>"
      ]
     },
     "metadata": {},
     "output_type": "display_data"
    }
   ],
   "source": [
    "# Compute confusion matrix\n",
    "cnf_matrix = confusion_matrix(y_test, y_pred)\n",
    "plt.rcParams.update({'font.size':10})\n",
    "plt.figure(figsize=(8, 8))\n",
    "plot_confusion_matrix(cnf_matrix, classes=class_names, title='Confusion Matrix')\n",
    "plt.show()"
   ]
  },
  {
   "cell_type": "markdown",
   "metadata": {},
   "source": [
    "# Neural Network"
   ]
  },
  {
   "cell_type": "markdown",
   "metadata": {},
   "source": [
    "hidden_layer_sizes 400, max_iter 240, Average CV Error: 0.669584863033"
   ]
  },
  {
   "cell_type": "code",
   "execution_count": 28,
   "metadata": {},
   "outputs": [
    {
     "name": "stdout",
     "output_type": "stream",
     "text": [
      "hidden_layer_sizes 300\n",
      "max_iter 120\n"
     ]
    }
   ],
   "source": [
    "# Neural Network\n",
    "\n",
    "# Define parameters\n",
    "PARAM_NAME_1 = 'hidden_layer_sizes'\n",
    "PARAM_1 = np.arange(100,601,100)\n",
    "PARAM_NAME_2 = 'max_iter'\n",
    "PARAM_2 = np.arange(80,401,40)\n",
    "\n",
    "# Perform classification\n",
    "classifier = MLPClassifier()\n",
    "param_grid = {PARAM_NAME_1: PARAM_1, PARAM_NAME_2: PARAM_2}\n",
    "mlp_grid = GridSearchCV(classifier, param_grid, cv = 5).fit(x_train, y_train)\n",
    "\n",
    "# Display tuned parameters\n",
    "print(PARAM_NAME_1, mlp_grid.best_params_[PARAM_NAME_1])\n",
    "print(PARAM_NAME_2, mlp_grid.best_params_[PARAM_NAME_2])"
   ]
  },
  {
   "cell_type": "code",
   "execution_count": 29,
   "metadata": {
    "collapsed": true
   },
   "outputs": [],
   "source": [
    "# Store a dataframe with the results\n",
    "nn_results = mlp_grid.cv_results_\n",
    "df = pd.DataFrame(nn_results)\n",
    "df.to_csv('nn_results.csv', index=False)"
   ]
  },
  {
   "cell_type": "code",
   "execution_count": 40,
   "metadata": {},
   "outputs": [
    {
     "data": {
      "text/plain": [
       "MLPClassifier(activation='relu', alpha=0.0001, batch_size='auto', beta_1=0.9,\n",
       "       beta_2=0.999, early_stopping=False, epsilon=1e-08,\n",
       "       hidden_layer_sizes=300, learning_rate='constant',\n",
       "       learning_rate_init=0.001, max_iter=120, momentum=0.9,\n",
       "       nesterovs_momentum=True, power_t=0.5, random_state=None,\n",
       "       shuffle=True, solver='adam', tol=0.0001, validation_fraction=0.1,\n",
       "       verbose=False, warm_start=False)"
      ]
     },
     "execution_count": 40,
     "metadata": {},
     "output_type": "execute_result"
    }
   ],
   "source": [
    "# Fit the classifier with best params\n",
    "classifier = MLPClassifier(hidden_layer_sizes=300, max_iter=120)\n",
    "classifier.fit(x_train, y_train)"
   ]
  },
  {
   "cell_type": "code",
   "execution_count": 41,
   "metadata": {},
   "outputs": [
    {
     "name": "stdout",
     "output_type": "stream",
     "text": [
      "             precision    recall  f1-score   support\n",
      "\n",
      "          0       0.78      0.70      0.74       979\n",
      "          1       0.84      0.89      0.87      1772\n",
      "\n",
      "avg / total       0.82      0.82      0.82      2751\n",
      "\n"
     ]
    }
   ],
   "source": [
    "# Make predictions\n",
    "predictions = classifier.predict(x_test)\n",
    "report = classification_report(y_test, predictions)\n",
    "print(report)"
   ]
  },
  {
   "cell_type": "code",
   "execution_count": 42,
   "metadata": {},
   "outputs": [
    {
     "data": {
      "image/png": "[encoded data removed]",
      "text/plain": [
       "<matplotlib.figure.Figure at 0x1a29f25eb8>"
      ]
     },
     "metadata": {},
     "output_type": "display_data"
    }
   ],
   "source": [
    "# Compute confusion matrix\n",
    "cnf_matrix = confusion_matrix(y_test, y_pred)\n",
    "plt.rcParams.update({'font.size':10})\n",
    "plt.figure(figsize=(8, 8))\n",
    "plot_confusion_matrix(cnf_matrix, classes=class_names, title='Confusion Matrix')\n",
    "plt.show()"
   ]
  },
  {
   "cell_type": "markdown",
   "metadata": {},
   "source": [
    "### lets just really quickly see how a logistic regression would perform"
   ]
  },
  {
   "cell_type": "code",
   "execution_count": 43,
   "metadata": {
    "collapsed": true
   },
   "outputs": [],
   "source": [
    "from sklearn.linear_model import LogisticRegression"
   ]
  },
  {
   "cell_type": "code",
   "execution_count": 62,
   "metadata": {},
   "outputs": [
    {
     "data": {
      "text/plain": [
       "LogisticRegression(C=100.0, class_weight=None, dual=False, fit_intercept=True,\n",
       "          intercept_scaling=1, max_iter=100, multi_class='ovr', n_jobs=1,\n",
       "          penalty='l2', random_state=None, solver='liblinear', tol=0.0001,\n",
       "          verbose=0, warm_start=False)"
      ]
     },
     "execution_count": 62,
     "metadata": {},
     "output_type": "execute_result"
    }
   ],
   "source": [
    "lr = LogisticRegression(C=100.0)\n",
    "lr.fit(x_train, y_train)"
   ]
  },
  {
   "cell_type": "code",
   "execution_count": 63,
   "metadata": {},
   "outputs": [
    {
     "name": "stdout",
     "output_type": "stream",
     "text": [
      "             precision    recall  f1-score   support\n",
      "\n",
      "          0       0.76      0.64      0.70       979\n",
      "          1       0.82      0.89      0.85      1772\n",
      "\n",
      "avg / total       0.80      0.80      0.80      2751\n",
      "\n"
     ]
    }
   ],
   "source": [
    "predictions = lr.predict(x_test)\n",
    "report = classification_report(y_test, predictions)\n",
    "print(report)"
   ]
  },
  {
   "cell_type": "code",
   "execution_count": null,
   "metadata": {
    "collapsed": true
   },
   "outputs": [],
   "source": []
  }
 ],
 "metadata": {
  "kernelspec": {
   "display_name": "Python 3",
   "language": "python",
   "name": "python3"
  },
  "language_info": {
   "codemirror_mode": {
    "name": "ipython",
    "version": 3
   },
   "file_extension": ".py",
   "mimetype": "text/x-python",
   "name": "python",
   "nbconvert_exporter": "python",
   "pygments_lexer": "ipython3",
   "version": "3.6.3"
  }
 },
 "nbformat": 4,
 "nbformat_minor": 2
}
