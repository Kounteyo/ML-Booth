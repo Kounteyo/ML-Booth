{
 "cells": [
  {
   "cell_type": "code",
   "execution_count": 16,
   "metadata": {
    "collapsed": true
   },
   "outputs": [],
   "source": [
    "# Import modules\n",
    "import warnings\n",
    "warnings.filterwarnings('ignore')\n",
    "import numpy as np\n",
    "import pandas as pd\n",
    "import matplotlib.pyplot as plt\n",
    "from collections import OrderedDict\n",
    "from sklearn.neural_network import MLPClassifier\n",
    "from sklearn.preprocessing import LabelEncoder\n",
    "from sklearn.model_selection import train_test_split, GridSearchCV\n",
    "from sklearn.metrics import confusion_matrix, accuracy_score, classification_report\n",
    "from sklearn.tree import DecisionTreeClassifier\n",
    "from sklearn.ensemble import AdaBoostClassifier, BaggingClassifier, RandomForestClassifier, GradientBoostingClassifier"
   ]
  },
  {
   "cell_type": "code",
   "execution_count": 17,
   "metadata": {
    "collapsed": true
   },
   "outputs": [],
   "source": [
    "import itertools\n",
    "import numpy as np\n",
    "import matplotlib.pyplot as plt\n",
    "from sklearn.metrics import confusion_matrix\n",
    "\n",
    "def plot_confusion_matrix(cm, classes, title='Confusion matrix', cmap=plt.cm.Blues):\n",
    "    \n",
    "    plt.imshow(cm, interpolation='nearest', cmap=cmap)\n",
    "    plt.title(title)\n",
    "    #plt.colorbar()\n",
    "    tick_marks = np.arange(len(classes))\n",
    "    plt.xticks(tick_marks, classes, rotation=45)\n",
    "    plt.yticks(tick_marks, classes)\n",
    "\n",
    "    fmt = 'd'\n",
    "    thresh = cm.max() / 2.\n",
    "    for i, j in itertools.product(range(cm.shape[0]), range(cm.shape[1])):\n",
    "        plt.text(j, i, format(cm[i, j], fmt),\n",
    "                 horizontalalignment=\"center\",\n",
    "                 color=\"white\" if cm[i, j] > thresh else \"black\")\n",
    "\n",
    "    plt.tight_layout()\n",
    "    plt.ylabel('True label')\n",
    "    plt.xlabel('Predicted label')\n",
    "\n",
    "class_names = ['A', 'B', 'C', 'D']"
   ]
  },
  {
   "cell_type": "code",
   "execution_count": 18,
   "metadata": {
    "collapsed": true
   },
   "outputs": [],
   "source": [
    "def clean_bin_bucket(clean_csv_file):\n",
    "    '''\n",
    "    takes in the clean data set and transforms the ratings into bins of ratings\n",
    "    '''\n",
    "    df = pd.read_csv(clean_csv_file)\n",
    "    \n",
    "    for index, row in df.iterrows():\n",
    "        if row['RTG_SP_LT_LC_ISSUER_CREDIT'] == 'SD':\n",
    "            df.at[index, 'RTG_SP_LT_LC_ISSUER_CREDIT'] = 'D'\n",
    "        else:\n",
    "            bin_rating = row['RTG_SP_LT_LC_ISSUER_CREDIT'][0]\n",
    "            df.at[index, 'RTG_SP_LT_LC_ISSUER_CREDIT'] = bin_rating\n",
    "            \n",
    "    # everything should be good now\n",
    "    df.to_csv('BDP_CLEAN_binned.csv', index=False)"
   ]
  },
  {
   "cell_type": "code",
   "execution_count": 19,
   "metadata": {
    "collapsed": true
   },
   "outputs": [],
   "source": [
    "clean_bin_bucket('BDP_CLEAN.csv')"
   ]
  },
  {
   "cell_type": "code",
   "execution_count": 38,
   "metadata": {},
   "outputs": [],
   "source": [
    "# Import the data\n",
    "CLEAN_DATAFILE = 'BDP_CLEAN_binned.csv'\n",
    "df = pd.read_csv(CLEAN_DATAFILE)\n",
    "\n",
    "# Drop the identification columns\n",
    "drop_columns = ['Ticker', 'Rating Date', 'Fiscal Year']\n",
    "y_variable = 'RTG_SP_LT_LC_ISSUER_CREDIT'\n",
    "df = df.drop(drop_columns, axis=1)\n",
    "x = df.drop([y_variable], axis=1)\n",
    "y = df[y_variable]\n",
    "\n",
    "# There are 2 categorical predictor variables\n",
    "# One hot encode the categorical data\n",
    "x = pd.get_dummies(x)\n",
    "\n",
    "# Split into train and test sets\n",
    "x_train, x_test, y_train, y_test = train_test_split(x, y, test_size=0.2, random_state=20)"
   ]
  },
  {
   "cell_type": "markdown",
   "metadata": {},
   "source": [
    "# Dummy Classifier"
   ]
  },
  {
   "cell_type": "code",
   "execution_count": 21,
   "metadata": {},
   "outputs": [
    {
     "data": {
      "text/plain": [
       "DummyClassifier(constant=None, random_state=None, strategy='stratified')"
      ]
     },
     "execution_count": 21,
     "metadata": {},
     "output_type": "execute_result"
    }
   ],
   "source": [
    "from sklearn.dummy import DummyClassifier\n",
    "dummy = DummyClassifier()\n",
    "dummy.fit(x_train, y_train)"
   ]
  },
  {
   "cell_type": "code",
   "execution_count": 22,
   "metadata": {
    "scrolled": false
   },
   "outputs": [
    {
     "name": "stdout",
     "output_type": "stream",
     "text": [
      "             precision    recall  f1-score   support\n",
      "\n",
      "          A       0.28      0.29      0.29       790\n",
      "          B       0.70      0.70      0.70      1928\n",
      "          C       0.00      0.00      0.00        28\n",
      "          D       0.00      0.00      0.00         5\n",
      "\n",
      "avg / total       0.57      0.57      0.57      2751\n",
      "\n"
     ]
    }
   ],
   "source": [
    "# Make predictions\n",
    "y_pred = dummy.predict(x_test)\n",
    "report = classification_report(y_test, y_pred)\n",
    "print(report)"
   ]
  },
  {
   "cell_type": "code",
   "execution_count": 23,
   "metadata": {
    "scrolled": false
   },
   "outputs": [
    {
     "data": {
      "image/png": "[encoded data removed]",
      "text/plain": [
       "<matplotlib.figure.Figure at 0x1a12fa89b0>"
      ]
     },
     "metadata": {},
     "output_type": "display_data"
    }
   ],
   "source": [
    "# Compute confusion matrix\n",
    "cnf_matrix = confusion_matrix(y_test, y_pred)\n",
    "plt.rcParams.update({'font.size':10})\n",
    "plt.figure(figsize=(8, 8))\n",
    "plot_confusion_matrix(cnf_matrix, classes=class_names, title='Confusion Matrix')\n",
    "plt.show()"
   ]
  },
  {
   "cell_type": "markdown",
   "metadata": {},
   "source": [
    "# Tree Classifiers"
   ]
  },
  {
   "cell_type": "markdown",
   "metadata": {},
   "source": [
    "## Random Forest"
   ]
  },
  {
   "cell_type": "code",
   "execution_count": 24,
   "metadata": {},
   "outputs": [
    {
     "name": "stdout",
     "output_type": "stream",
     "text": [
      "Best n estimators: 600\n",
      "Best max features: log2\n",
      "Best max depth: 34\n"
     ]
    }
   ],
   "source": [
    "# Random Forest GridSearch\n",
    "param_grid = {'n_estimators': np.arange(400, 1002, 200),\n",
    "                'max_features': np.array(['sqrt', 'log2']),\n",
    "                'max_depth': np.arange(10, 42, 4)}\n",
    "forest_grid = GridSearchCV(RandomForestClassifier(), param_grid, cv=5)\n",
    "\n",
    "forest_grid.fit(x_train, y_train)\n",
    "best_n = forest_grid.best_params_['n_estimators']\n",
    "best_f = forest_grid.best_params_['max_features']\n",
    "best_d = forest_grid.best_params_['max_depth']\n",
    "\n",
    "print('Best n estimators: {}'.format(best_n))\n",
    "print('Best max features: {}'.format(best_f))\n",
    "print('Best max depth: {}'.format(best_d))"
   ]
  },
  {
   "cell_type": "code",
   "execution_count": 25,
   "metadata": {
    "collapsed": true,
    "scrolled": true
   },
   "outputs": [],
   "source": [
    "# Store a dataframe with the results\n",
    "rf_results = forest_grid.cv_results_\n",
    "df = pd.DataFrame(rf_results)\n",
    "df.to_csv('rf_results.csv', index=False)"
   ]
  },
  {
   "cell_type": "code",
   "execution_count": 39,
   "metadata": {
    "scrolled": true
   },
   "outputs": [
    {
     "data": {
      "text/plain": [
       "RandomForestClassifier(bootstrap=True, class_weight=None, criterion='gini',\n",
       "            max_depth=34, max_features='log2', max_leaf_nodes=None,\n",
       "            min_impurity_decrease=0.0, min_impurity_split=None,\n",
       "            min_samples_leaf=1, min_samples_split=2,\n",
       "            min_weight_fraction_leaf=0.0, n_estimators=600, n_jobs=1,\n",
       "            oob_score=False, random_state=None, verbose=0,\n",
       "            warm_start=False)"
      ]
     },
     "execution_count": 39,
     "metadata": {},
     "output_type": "execute_result"
    }
   ],
   "source": [
    "# Fit the classifier with best params\n",
    "rf = RandomForestClassifier(n_estimators=600, max_features='log2', max_depth=34)\n",
    "rf.fit(x_train, y_train)"
   ]
  },
  {
   "cell_type": "code",
   "execution_count": 40,
   "metadata": {},
   "outputs": [
    {
     "name": "stdout",
     "output_type": "stream",
     "text": [
      "             precision    recall  f1-score   support\n",
      "\n",
      "          A       0.88      0.68      0.77       790\n",
      "          B       0.87      0.96      0.91      1928\n",
      "          C       0.33      0.04      0.06        28\n",
      "          D       0.00      0.00      0.00         5\n",
      "\n",
      "avg / total       0.87      0.87      0.86      2751\n",
      "\n"
     ]
    }
   ],
   "source": [
    "# Make predictions\n",
    "y_pred = rf.predict(x_test)\n",
    "report = classification_report(y_test, y_pred)\n",
    "print(report)"
   ]
  },
  {
   "cell_type": "code",
   "execution_count": 41,
   "metadata": {},
   "outputs": [
    {
     "data": {
      "image/png": "[encoded data removed]",
      "text/plain": [
       "<matplotlib.figure.Figure at 0x1a155de358>"
      ]
     },
     "metadata": {},
     "output_type": "display_data"
    }
   ],
   "source": [
    "# Compute confusion matrix\n",
    "cnf_matrix = confusion_matrix(y_test, y_pred)\n",
    "plt.rcParams.update({'font.size':10})\n",
    "plt.figure(figsize=(8, 8))\n",
    "plot_confusion_matrix(cnf_matrix, classes=class_names, title='Confusion Matrix')\n",
    "plt.show()"
   ]
  },
  {
   "cell_type": "markdown",
   "metadata": {},
   "source": [
    "## Adaboost"
   ]
  },
  {
   "cell_type": "code",
   "execution_count": 29,
   "metadata": {},
   "outputs": [
    {
     "name": "stdout",
     "output_type": "stream",
     "text": [
      "Best n estimators: 200\n",
      "Best learning rate: 0.1\n"
     ]
    }
   ],
   "source": [
    "# Adaboost Gridsearch\n",
    "param_grid = {'n_estimators': np.arange(200, 1002, 100),\n",
    "                'learning_rate': np.arange(0.1, 1.1, 0.1)}\n",
    "adaboost_grid = GridSearchCV(AdaBoostClassifier(), param_grid, cv=5)\n",
    "\n",
    "adaboost_grid.fit(x_train, y_train)\n",
    "best_n = adaboost_grid.best_params_['n_estimators']\n",
    "best_l = adaboost_grid.best_params_['learning_rate']\n",
    "\n",
    "print('Best n estimators: {}'.format(best_n))\n",
    "print('Best learning rate: {}'.format(best_l))"
   ]
  },
  {
   "cell_type": "code",
   "execution_count": 42,
   "metadata": {},
   "outputs": [
    {
     "data": {
      "text/plain": [
       "AdaBoostClassifier(algorithm='SAMME.R', base_estimator=None,\n",
       "          learning_rate=0.1, n_estimators=200, random_state=None)"
      ]
     },
     "execution_count": 42,
     "metadata": {},
     "output_type": "execute_result"
    }
   ],
   "source": [
    "# Fit the classifier with best params\n",
    "ada_boost = AdaBoostClassifier(n_estimators=200, learning_rate=0.1)\n",
    "ada_boost.fit(x_train, y_train)"
   ]
  },
  {
   "cell_type": "code",
   "execution_count": 43,
   "metadata": {},
   "outputs": [
    {
     "name": "stdout",
     "output_type": "stream",
     "text": [
      "             precision    recall  f1-score   support\n",
      "\n",
      "          A       0.63      0.36      0.46       790\n",
      "          B       0.77      0.91      0.83      1928\n",
      "          C       0.25      0.04      0.06        28\n",
      "          D       0.00      0.00      0.00         5\n",
      "\n",
      "avg / total       0.72      0.74      0.72      2751\n",
      "\n"
     ]
    }
   ],
   "source": [
    "# Make predictions\n",
    "y_pred = ada_boost.predict(x_test)\n",
    "report = classification_report(y_test, y_pred)\n",
    "print(report)"
   ]
  },
  {
   "cell_type": "code",
   "execution_count": 44,
   "metadata": {},
   "outputs": [
    {
     "data": {
      "image/png": "[encoded data removed]",
      "text/plain": [
       "<matplotlib.figure.Figure at 0x10b0bf400>"
      ]
     },
     "metadata": {},
     "output_type": "display_data"
    }
   ],
   "source": [
    "# Compute confusion matrix\n",
    "cnf_matrix = confusion_matrix(y_test, y_pred)\n",
    "plt.rcParams.update({'font.size':10})\n",
    "plt.figure(figsize=(8, 8))\n",
    "plot_confusion_matrix(cnf_matrix, classes=class_names, title='Confusion Matrix')\n",
    "plt.show()"
   ]
  },
  {
   "cell_type": "markdown",
   "metadata": {},
   "source": [
    "# Neural Network"
   ]
  },
  {
   "cell_type": "markdown",
   "metadata": {},
   "source": [
    "hidden_layer_sizes 400, max_iter 240, Average CV Error: 0.669584863033"
   ]
  },
  {
   "cell_type": "code",
   "execution_count": 33,
   "metadata": {},
   "outputs": [
    {
     "name": "stdout",
     "output_type": "stream",
     "text": [
      "hidden_layer_sizes 600\n",
      "max_iter 320\n"
     ]
    }
   ],
   "source": [
    "# Neural Network\n",
    "\n",
    "# Define parameters\n",
    "PARAM_NAME_1 = 'hidden_layer_sizes'\n",
    "PARAM_1 = np.arange(100,601,100)\n",
    "PARAM_NAME_2 = 'max_iter'\n",
    "PARAM_2 = np.arange(80,401,40)\n",
    "\n",
    "# Perform classification\n",
    "classifier = MLPClassifier()\n",
    "param_grid = {PARAM_NAME_1: PARAM_1, PARAM_NAME_2: PARAM_2}\n",
    "mlp_grid = GridSearchCV(classifier, param_grid, cv = 5).fit(x_train, y_train)\n",
    "\n",
    "# Display tuned parameters\n",
    "print(PARAM_NAME_1, mlp_grid.best_params_[PARAM_NAME_1])\n",
    "print(PARAM_NAME_2, mlp_grid.best_params_[PARAM_NAME_2])"
   ]
  },
  {
   "cell_type": "code",
   "execution_count": 34,
   "metadata": {
    "collapsed": true
   },
   "outputs": [],
   "source": [
    "# Store a dataframe with the results\n",
    "nn_results = mlp_grid.cv_results_\n",
    "df = pd.DataFrame(nn_results)\n",
    "df.to_csv('nn_results.csv', index=False)"
   ]
  },
  {
   "cell_type": "code",
   "execution_count": 45,
   "metadata": {},
   "outputs": [
    {
     "data": {
      "text/plain": [
       "MLPClassifier(activation='relu', alpha=0.0001, batch_size='auto', beta_1=0.9,\n",
       "       beta_2=0.999, early_stopping=False, epsilon=1e-08,\n",
       "       hidden_layer_sizes=600, learning_rate='constant',\n",
       "       learning_rate_init=0.001, max_iter=320, momentum=0.9,\n",
       "       nesterovs_momentum=True, power_t=0.5, random_state=None,\n",
       "       shuffle=True, solver='adam', tol=0.0001, validation_fraction=0.1,\n",
       "       verbose=False, warm_start=False)"
      ]
     },
     "execution_count": 45,
     "metadata": {},
     "output_type": "execute_result"
    }
   ],
   "source": [
    "# Fit the classifier with best params\n",
    "classifier = MLPClassifier(hidden_layer_sizes=600, max_iter=320)\n",
    "classifier.fit(x_train, y_train)"
   ]
  },
  {
   "cell_type": "code",
   "execution_count": 46,
   "metadata": {},
   "outputs": [
    {
     "name": "stdout",
     "output_type": "stream",
     "text": [
      "             precision    recall  f1-score   support\n",
      "\n",
      "          A       0.63      0.80      0.70       790\n",
      "          B       0.89      0.80      0.85      1928\n",
      "          C       0.40      0.14      0.21        28\n",
      "          D       0.00      0.00      0.00         5\n",
      "\n",
      "avg / total       0.81      0.80      0.80      2751\n",
      "\n"
     ]
    }
   ],
   "source": [
    "# Make predictions\n",
    "predictions = classifier.predict(x_test)\n",
    "report = classification_report(y_test, predictions)\n",
    "print(report)"
   ]
  },
  {
   "cell_type": "code",
   "execution_count": 47,
   "metadata": {},
   "outputs": [
    {
     "data": {
      "image/png": "[encoded data removed]",
      "text/plain": [
       "<matplotlib.figure.Figure at 0x1a48a24d30>"
      ]
     },
     "metadata": {},
     "output_type": "display_data"
    }
   ],
   "source": [
    "# Compute confusion matrix\n",
    "cnf_matrix = confusion_matrix(y_test, y_pred)\n",
    "plt.rcParams.update({'font.size':10})\n",
    "plt.figure(figsize=(8, 8))\n",
    "plot_confusion_matrix(cnf_matrix, classes=class_names, title='Confusion Matrix')\n",
    "plt.show()"
   ]
  },
  {
   "cell_type": "code",
   "execution_count": null,
   "metadata": {
    "collapsed": true
   },
   "outputs": [],
   "source": []
  }
 ],
 "metadata": {
  "kernelspec": {
   "display_name": "Python 3",
   "language": "python",
   "name": "python3"
  },
  "language_info": {
   "codemirror_mode": {
    "name": "ipython",
    "version": 3
   },
   "file_extension": ".py",
   "mimetype": "text/x-python",
   "name": "python",
   "nbconvert_exporter": "python",
   "pygments_lexer": "ipython3",
   "version": "3.6.3"
  }
 },
 "nbformat": 4,
 "nbformat_minor": 2
}
