{
 "cells": [
  {
   "cell_type": "code",
   "execution_count": 1,
   "metadata": {},
   "outputs": [],
   "source": [
    "# load neccessary packages\n",
    "import pandas as pd\n",
    "import numpy as np\n",
    "from sklearn.preprocessing import LabelEncoder\n",
    "from sklearn.model_selection import train_test_split, GridSearchCV\n",
    "from sklearn.metrics import confusion_matrix, accuracy_score\n",
    "from sklearn.tree import DecisionTreeClassifier\n",
    "from sklearn.ensemble import AdaBoostClassifier, BaggingClassifier, RandomForestClassifier, GradientBoostingClassifier"
   ]
  },
  {
   "cell_type": "code",
   "execution_count": 2,
   "metadata": {},
   "outputs": [],
   "source": [
    "# load the data\n",
    "CLEAN_DATAFILE = \"BDP_CLEAN.csv\"\n",
    "df = pd.read_csv(CLEAN_DATAFILE)\n",
    "\n",
    "# lets drop the columns we dont want to predict on\n",
    "# these columns are only for identification\n",
    "drop_columns = ['Ticker', 'Rating Date', 'Fiscal Year']\n",
    "y_variable = \"RTG_SP_LT_LC_ISSUER_CREDIT\"\n",
    "df = df.drop(columns=drop_columns)\n",
    "x = df.drop(columns=[y_variable])\n",
    "y = df[y_variable]\n",
    "\n",
    "# within the x variables there are 2 columns that are categorical data\n",
    "# lets one hot encode the categorical data\n",
    "x = pd.get_dummies(x)\n",
    "\n",
    "x_train, x_test, y_train, y_test = train_test_split(x, y, test_size=0.2, random_state=20)"
   ]
  },
  {
   "cell_type": "code",
   "execution_count": null,
   "metadata": {},
   "outputs": [],
   "source": [
    "# this is gradientboosting classifier\n",
    "\n",
    "# find the best parameters first\n",
    "kFold = 5\n",
    "param_grid = {'n_estimators': np.arange(200, 900, 200),\n",
    "                'learning_rate': np.arange(0.50, 1.25, 0.25),\n",
    "                'max_depth': np.arange(5, 30, 5)}\n",
    "gradient_grid = GridSearchCV(GradientBoostingClassifier(), param_grid, cv=kFold)\n",
    "\n",
    "# test using training data\n",
    "gradient_grid.fit(x_train, y_train)\n",
    "best_n = gradient_grid.best_params_['n_estimators']\n",
    "best_l = gradient_grid.best_params_['learning_rate']\n",
    "best_d = gradient_grid.best_params_['max_depth']\n",
    "\n",
    "print(\"Best n estimators:    %f\" % best_n)\n",
    "print(\"Best learning rate:   %f\" % best_l)\n",
    "print(\"Best max depth:       %f\" % best_d)"
   ]
  },
  {
   "cell_type": "code",
   "execution_count": null,
   "metadata": {},
   "outputs": [],
   "source": []
  }
 ],
 "metadata": {
  "kernelspec": {
   "display_name": "Python 3",
   "language": "python",
   "name": "python3"
  },
  "language_info": {
   "codemirror_mode": {
    "name": "ipython",
    "version": 3
   },
   "file_extension": ".py",
   "mimetype": "text/x-python",
   "name": "python",
   "nbconvert_exporter": "python",
   "pygments_lexer": "ipython3",
   "version": "3.6.4"
  }
 },
 "nbformat": 4,
 "nbformat_minor": 2
}
